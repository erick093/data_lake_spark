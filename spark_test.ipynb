{
 "cells": [
  {
   "cell_type": "code",
   "execution_count": 1,
   "outputs": [],
   "source": [
    "import configparser\n",
    "from datetime import datetime\n",
    "import os\n",
    "from pyspark.sql import SparkSession\n",
    "from pyspark.sql.functions import udf, col"
   ],
   "metadata": {
    "collapsed": false,
    "pycharm": {
     "name": "#%%\n"
    }
   }
  },
  {
   "cell_type": "code",
   "execution_count": 2,
   "outputs": [
    {
     "name": "stderr",
     "output_type": "stream",
     "text": [
      "22/03/06 12:43:14 WARN Utils: Your hostname, MacBook-Pro.local resolves to a loopback address: 127.0.0.1; using 192.168.0.29 instead (on interface en0)\n",
      "22/03/06 12:43:14 WARN Utils: Set SPARK_LOCAL_IP if you need to bind to another address\n"
     ]
    },
    {
     "name": "stdout",
     "output_type": "stream",
     "text": [
      ":: loading settings :: url = jar:file:/Users/eescobar/opt/anaconda3/envs/project_data_modeling_postgres/lib/python3.8/site-packages/pyspark/jars/ivy-2.4.0.jar!/org/apache/ivy/core/settings/ivysettings.xml\n"
     ]
    },
    {
     "name": "stderr",
     "output_type": "stream",
     "text": [
      "Ivy Default Cache set to: /Users/eescobar/.ivy2/cache\n",
      "The jars for the packages stored in: /Users/eescobar/.ivy2/jars\n",
      "org.apache.hadoop#hadoop-aws added as a dependency\n",
      ":: resolving dependencies :: org.apache.spark#spark-submit-parent-d48f107f-066e-4d1e-8936-3663db56b916;1.0\n",
      "\tconfs: [default]\n",
      "\tfound org.apache.hadoop#hadoop-aws;2.7.0 in central\n",
      "\tfound org.apache.hadoop#hadoop-common;2.7.0 in central\n",
      "\tfound org.apache.hadoop#hadoop-annotations;2.7.0 in central\n",
      "\tfound com.google.guava#guava;11.0.2 in central\n",
      "\tfound com.google.code.findbugs#jsr305;3.0.0 in central\n",
      "\tfound commons-cli#commons-cli;1.2 in central\n",
      "\tfound org.apache.commons#commons-math3;3.1.1 in central\n",
      "\tfound xmlenc#xmlenc;0.52 in central\n",
      "\tfound commons-httpclient#commons-httpclient;3.1 in central\n",
      "\tfound commons-logging#commons-logging;1.1.3 in central\n",
      "\tfound commons-codec#commons-codec;1.4 in central\n",
      "\tfound commons-io#commons-io;2.4 in central\n",
      "\tfound commons-net#commons-net;3.1 in central\n",
      "\tfound commons-collections#commons-collections;3.2.1 in central\n",
      "\tfound javax.servlet#servlet-api;2.5 in central\n",
      "\tfound org.mortbay.jetty#jetty;6.1.26 in central\n",
      "\tfound org.mortbay.jetty#jetty-util;6.1.26 in central\n",
      "\tfound com.sun.jersey#jersey-core;1.9 in central\n",
      "\tfound com.sun.jersey#jersey-json;1.9 in central\n",
      "\tfound org.codehaus.jettison#jettison;1.1 in central\n",
      "\tfound com.sun.xml.bind#jaxb-impl;2.2.3-1 in central\n",
      "\tfound javax.xml.bind#jaxb-api;2.2.2 in central\n",
      "\tfound javax.xml.stream#stax-api;1.0-2 in central\n",
      "\tfound javax.activation#activation;1.1 in central\n",
      "\tfound org.codehaus.jackson#jackson-core-asl;1.9.13 in central\n",
      "\tfound org.codehaus.jackson#jackson-mapper-asl;1.9.13 in central\n",
      "\tfound org.codehaus.jackson#jackson-jaxrs;1.9.13 in central\n",
      "\tfound org.codehaus.jackson#jackson-xc;1.9.13 in central\n",
      "\tfound com.sun.jersey#jersey-server;1.9 in central\n",
      "\tfound asm#asm;3.2 in central\n",
      "\tfound log4j#log4j;1.2.17 in central\n",
      "\tfound net.java.dev.jets3t#jets3t;0.9.0 in central\n",
      "\tfound org.apache.httpcomponents#httpclient;4.2.5 in central\n",
      "\tfound org.apache.httpcomponents#httpcore;4.2.5 in central\n",
      "\tfound com.jamesmurty.utils#java-xmlbuilder;0.4 in central\n",
      "\tfound commons-lang#commons-lang;2.6 in central\n",
      "\tfound commons-configuration#commons-configuration;1.6 in central\n",
      "\tfound commons-digester#commons-digester;1.8 in central\n",
      "\tfound commons-beanutils#commons-beanutils;1.7.0 in central\n",
      "\tfound commons-beanutils#commons-beanutils-core;1.8.0 in central\n",
      "\tfound org.slf4j#slf4j-api;1.7.10 in central\n",
      "\tfound org.apache.avro#avro;1.7.4 in central\n",
      "\tfound com.thoughtworks.paranamer#paranamer;2.3 in central\n",
      "\tfound org.xerial.snappy#snappy-java;1.0.4.1 in central\n",
      "\tfound org.apache.commons#commons-compress;1.4.1 in central\n",
      "\tfound org.tukaani#xz;1.0 in central\n",
      "\tfound com.google.protobuf#protobuf-java;2.5.0 in central\n",
      "\tfound com.google.code.gson#gson;2.2.4 in central\n",
      "\tfound org.apache.hadoop#hadoop-auth;2.7.0 in central\n",
      "\tfound org.apache.directory.server#apacheds-kerberos-codec;2.0.0-M15 in central\n",
      "\tfound org.apache.directory.server#apacheds-i18n;2.0.0-M15 in central\n",
      "\tfound org.apache.directory.api#api-asn1-api;1.0.0-M20 in central\n",
      "\tfound org.apache.directory.api#api-util;1.0.0-M20 in central\n",
      "\tfound org.apache.zookeeper#zookeeper;3.4.6 in central\n",
      "\tfound org.slf4j#slf4j-log4j12;1.7.10 in central\n",
      "\tfound io.netty#netty;3.6.2.Final in central\n",
      "\tfound org.apache.curator#curator-framework;2.7.1 in central\n",
      "\tfound org.apache.curator#curator-client;2.7.1 in central\n",
      "\tfound com.jcraft#jsch;0.1.42 in central\n",
      "\tfound org.apache.curator#curator-recipes;2.7.1 in central\n",
      "\tfound org.apache.htrace#htrace-core;3.1.0-incubating in central\n",
      "\tfound javax.servlet.jsp#jsp-api;2.1 in central\n",
      "\tfound jline#jline;0.9.94 in central\n",
      "\tfound junit#junit;4.11 in central\n",
      "\tfound org.hamcrest#hamcrest-core;1.3 in central\n",
      "\tfound com.fasterxml.jackson.core#jackson-databind;2.2.3 in central\n",
      "\tfound com.fasterxml.jackson.core#jackson-annotations;2.2.3 in central\n",
      "\tfound com.fasterxml.jackson.core#jackson-core;2.2.3 in central\n",
      "\tfound com.amazonaws#aws-java-sdk;1.7.4 in central\n",
      "\tfound joda-time#joda-time;2.10.13 in central\n",
      "\t[2.10.13] joda-time#joda-time;[2.2,)\n",
      "downloading https://repo1.maven.org/maven2/org/apache/hadoop/hadoop-aws/2.7.0/hadoop-aws-2.7.0.jar ...\n",
      "\t[SUCCESSFUL ] org.apache.hadoop#hadoop-aws;2.7.0!hadoop-aws.jar (47ms)\n",
      "downloading https://repo1.maven.org/maven2/org/apache/hadoop/hadoop-common/2.7.0/hadoop-common-2.7.0.jar ...\n",
      "\t[SUCCESSFUL ] org.apache.hadoop#hadoop-common;2.7.0!hadoop-common.jar (1016ms)\n",
      "downloading https://repo1.maven.org/maven2/com/fasterxml/jackson/core/jackson-databind/2.2.3/jackson-databind-2.2.3.jar ...\n",
      "\t[SUCCESSFUL ] com.fasterxml.jackson.core#jackson-databind;2.2.3!jackson-databind.jar (181ms)\n",
      "downloading https://repo1.maven.org/maven2/com/fasterxml/jackson/core/jackson-annotations/2.2.3/jackson-annotations-2.2.3.jar ...\n",
      "\t[SUCCESSFUL ] com.fasterxml.jackson.core#jackson-annotations;2.2.3!jackson-annotations.jar (42ms)\n",
      "downloading https://repo1.maven.org/maven2/com/amazonaws/aws-java-sdk/1.7.4/aws-java-sdk-1.7.4.jar ...\n",
      "\t[SUCCESSFUL ] com.amazonaws#aws-java-sdk;1.7.4!aws-java-sdk.jar (2239ms)\n",
      "downloading https://repo1.maven.org/maven2/org/apache/hadoop/hadoop-annotations/2.7.0/hadoop-annotations-2.7.0.jar ...\n",
      "\t[SUCCESSFUL ] org.apache.hadoop#hadoop-annotations;2.7.0!hadoop-annotations.jar (40ms)\n",
      "downloading https://repo1.maven.org/maven2/com/google/guava/guava/11.0.2/guava-11.0.2.jar ...\n",
      "\t[SUCCESSFUL ] com.google.guava#guava;11.0.2!guava.jar (236ms)\n",
      "downloading https://repo1.maven.org/maven2/commons-cli/commons-cli/1.2/commons-cli-1.2.jar ...\n",
      "\t[SUCCESSFUL ] commons-cli#commons-cli;1.2!commons-cli.jar (24ms)\n",
      "downloading https://repo1.maven.org/maven2/org/apache/commons/commons-math3/3.1.1/commons-math3-3.1.1.jar ...\n",
      "\t[SUCCESSFUL ] org.apache.commons#commons-math3;3.1.1!commons-math3.jar (266ms)\n",
      "downloading https://repo1.maven.org/maven2/xmlenc/xmlenc/0.52/xmlenc-0.52.jar ...\n",
      "\t[SUCCESSFUL ] xmlenc#xmlenc;0.52!xmlenc.jar (30ms)\n",
      "downloading https://repo1.maven.org/maven2/commons-httpclient/commons-httpclient/3.1/commons-httpclient-3.1.jar ...\n",
      "\t[SUCCESSFUL ] commons-httpclient#commons-httpclient;3.1!commons-httpclient.jar (55ms)\n",
      "downloading https://repo1.maven.org/maven2/commons-codec/commons-codec/1.4/commons-codec-1.4.jar ...\n",
      "\t[SUCCESSFUL ] commons-codec#commons-codec;1.4!commons-codec.jar (53ms)\n",
      "downloading https://repo1.maven.org/maven2/commons-io/commons-io/2.4/commons-io-2.4.jar ...\n",
      "\t[SUCCESSFUL ] commons-io#commons-io;2.4!commons-io.jar (53ms)\n",
      "downloading https://repo1.maven.org/maven2/commons-net/commons-net/3.1/commons-net-3.1.jar ...\n",
      "\t[SUCCESSFUL ] commons-net#commons-net;3.1!commons-net.jar (50ms)\n",
      "downloading https://repo1.maven.org/maven2/commons-collections/commons-collections/3.2.1/commons-collections-3.2.1.jar ...\n",
      "\t[SUCCESSFUL ] commons-collections#commons-collections;3.2.1!commons-collections.jar (113ms)\n",
      "downloading https://repo1.maven.org/maven2/javax/servlet/servlet-api/2.5/servlet-api-2.5.jar ...\n",
      "\t[SUCCESSFUL ] javax.servlet#servlet-api;2.5!servlet-api.jar (36ms)\n",
      "downloading https://repo1.maven.org/maven2/org/mortbay/jetty/jetty/6.1.26/jetty-6.1.26.jar ...\n",
      "\t[SUCCESSFUL ] org.mortbay.jetty#jetty;6.1.26!jetty.jar (257ms)\n",
      "downloading https://repo1.maven.org/maven2/org/mortbay/jetty/jetty-util/6.1.26/jetty-util-6.1.26.jar ...\n",
      "\t[SUCCESSFUL ] org.mortbay.jetty#jetty-util;6.1.26!jetty-util.jar (76ms)\n",
      "downloading https://repo1.maven.org/maven2/com/sun/jersey/jersey-core/1.9/jersey-core-1.9.jar ...\n",
      "\t[SUCCESSFUL ] com.sun.jersey#jersey-core;1.9!jersey-core.jar(bundle) (116ms)\n",
      "downloading https://repo1.maven.org/maven2/com/sun/jersey/jersey-json/1.9/jersey-json-1.9.jar ...\n",
      "\t[SUCCESSFUL ] com.sun.jersey#jersey-json;1.9!jersey-json.jar(bundle) (39ms)\n",
      "downloading https://repo1.maven.org/maven2/com/sun/jersey/jersey-server/1.9/jersey-server-1.9.jar ...\n",
      "\t[SUCCESSFUL ] com.sun.jersey#jersey-server;1.9!jersey-server.jar(bundle) (126ms)\n",
      "downloading https://repo1.maven.org/maven2/commons-logging/commons-logging/1.1.3/commons-logging-1.1.3.jar ...\n",
      "\t[SUCCESSFUL ] commons-logging#commons-logging;1.1.3!commons-logging.jar (24ms)\n",
      "downloading https://repo1.maven.org/maven2/log4j/log4j/1.2.17/log4j-1.2.17.jar ...\n",
      "\t[SUCCESSFUL ] log4j#log4j;1.2.17!log4j.jar(bundle) (95ms)\n",
      "downloading https://repo1.maven.org/maven2/net/java/dev/jets3t/jets3t/0.9.0/jets3t-0.9.0.jar ...\n",
      "\t[SUCCESSFUL ] net.java.dev.jets3t#jets3t;0.9.0!jets3t.jar (100ms)\n",
      "downloading https://repo1.maven.org/maven2/commons-lang/commons-lang/2.6/commons-lang-2.6.jar ...\n",
      "\t[SUCCESSFUL ] commons-lang#commons-lang;2.6!commons-lang.jar (65ms)\n",
      "downloading https://repo1.maven.org/maven2/commons-configuration/commons-configuration/1.6/commons-configuration-1.6.jar ...\n",
      "\t[SUCCESSFUL ] commons-configuration#commons-configuration;1.6!commons-configuration.jar (71ms)\n",
      "downloading https://repo1.maven.org/maven2/org/slf4j/slf4j-api/1.7.10/slf4j-api-1.7.10.jar ...\n",
      "\t[SUCCESSFUL ] org.slf4j#slf4j-api;1.7.10!slf4j-api.jar (25ms)\n",
      "downloading https://repo1.maven.org/maven2/org/codehaus/jackson/jackson-core-asl/1.9.13/jackson-core-asl-1.9.13.jar ...\n",
      "\t[SUCCESSFUL ] org.codehaus.jackson#jackson-core-asl;1.9.13!jackson-core-asl.jar (84ms)\n",
      "downloading https://repo1.maven.org/maven2/org/codehaus/jackson/jackson-mapper-asl/1.9.13/jackson-mapper-asl-1.9.13.jar ...\n",
      "\t[SUCCESSFUL ] org.codehaus.jackson#jackson-mapper-asl;1.9.13!jackson-mapper-asl.jar (182ms)\n",
      "downloading https://repo1.maven.org/maven2/org/apache/avro/avro/1.7.4/avro-1.7.4.jar ...\n",
      "\t[SUCCESSFUL ] org.apache.avro#avro;1.7.4!avro.jar (60ms)\n",
      "downloading https://repo1.maven.org/maven2/com/google/protobuf/protobuf-java/2.5.0/protobuf-java-2.5.0.jar ...\n",
      "\t[SUCCESSFUL ] com.google.protobuf#protobuf-java;2.5.0!protobuf-java.jar(bundle) (124ms)\n",
      "downloading https://repo1.maven.org/maven2/com/google/code/gson/gson/2.2.4/gson-2.2.4.jar ...\n",
      "\t[SUCCESSFUL ] com.google.code.gson#gson;2.2.4!gson.jar (102ms)\n",
      "downloading https://repo1.maven.org/maven2/org/apache/hadoop/hadoop-auth/2.7.0/hadoop-auth-2.7.0.jar ...\n",
      "\t[SUCCESSFUL ] org.apache.hadoop#hadoop-auth;2.7.0!hadoop-auth.jar (33ms)\n",
      "downloading https://repo1.maven.org/maven2/com/jcraft/jsch/0.1.42/jsch-0.1.42.jar ...\n",
      "\t[SUCCESSFUL ] com.jcraft#jsch;0.1.42!jsch.jar (61ms)\n",
      "downloading https://repo1.maven.org/maven2/org/apache/curator/curator-client/2.7.1/curator-client-2.7.1.jar ...\n",
      "\t[SUCCESSFUL ] org.apache.curator#curator-client;2.7.1!curator-client.jar(bundle) (33ms)\n",
      "downloading https://repo1.maven.org/maven2/org/apache/curator/curator-recipes/2.7.1/curator-recipes-2.7.1.jar ...\n",
      "\t[SUCCESSFUL ] org.apache.curator#curator-recipes;2.7.1!curator-recipes.jar(bundle) (79ms)\n",
      "downloading https://repo1.maven.org/maven2/com/google/code/findbugs/jsr305/3.0.0/jsr305-3.0.0.jar ...\n",
      "\t[SUCCESSFUL ] com.google.code.findbugs#jsr305;3.0.0!jsr305.jar (22ms)\n",
      "downloading https://repo1.maven.org/maven2/org/apache/htrace/htrace-core/3.1.0-incubating/htrace-core-3.1.0-incubating.jar ...\n",
      "\t[SUCCESSFUL ] org.apache.htrace#htrace-core;3.1.0-incubating!htrace-core.jar (304ms)\n",
      "downloading https://repo1.maven.org/maven2/org/apache/zookeeper/zookeeper/3.4.6/zookeeper-3.4.6.jar ...\n",
      "\t[SUCCESSFUL ] org.apache.zookeeper#zookeeper;3.4.6!zookeeper.jar (182ms)\n",
      "downloading https://repo1.maven.org/maven2/org/apache/commons/commons-compress/1.4.1/commons-compress-1.4.1.jar ...\n",
      "\t[SUCCESSFUL ] org.apache.commons#commons-compress;1.4.1!commons-compress.jar (55ms)\n",
      "downloading https://repo1.maven.org/maven2/org/codehaus/jettison/jettison/1.1/jettison-1.1.jar ...\n",
      "\t[SUCCESSFUL ] org.codehaus.jettison#jettison;1.1!jettison.jar(bundle) (41ms)\n",
      "downloading https://repo1.maven.org/maven2/com/sun/xml/bind/jaxb-impl/2.2.3-1/jaxb-impl-2.2.3-1.jar ...\n",
      "\t[SUCCESSFUL ] com.sun.xml.bind#jaxb-impl;2.2.3-1!jaxb-impl.jar (180ms)\n",
      "downloading https://repo1.maven.org/maven2/org/codehaus/jackson/jackson-jaxrs/1.9.13/jackson-jaxrs-1.9.13.jar ...\n",
      "\t[SUCCESSFUL ] org.codehaus.jackson#jackson-jaxrs;1.9.13!jackson-jaxrs.jar (23ms)\n",
      "downloading https://repo1.maven.org/maven2/org/codehaus/jackson/jackson-xc/1.9.13/jackson-xc-1.9.13.jar ...\n",
      "\t[SUCCESSFUL ] org.codehaus.jackson#jackson-xc;1.9.13!jackson-xc.jar (19ms)\n",
      "downloading https://repo1.maven.org/maven2/javax/xml/bind/jaxb-api/2.2.2/jaxb-api-2.2.2.jar ...\n",
      "\t[SUCCESSFUL ] javax.xml.bind#jaxb-api;2.2.2!jaxb-api.jar (49ms)\n",
      "downloading https://repo1.maven.org/maven2/javax/xml/stream/stax-api/1.0-2/stax-api-1.0-2.jar ...\n",
      "\t[SUCCESSFUL ] javax.xml.stream#stax-api;1.0-2!stax-api.jar (26ms)\n",
      "downloading https://repo1.maven.org/maven2/javax/activation/activation/1.1/activation-1.1.jar ...\n",
      "\t[SUCCESSFUL ] javax.activation#activation;1.1!activation.jar (27ms)\n",
      "downloading https://repo1.maven.org/maven2/asm/asm/3.2/asm-3.2.jar ...\n",
      "\t[SUCCESSFUL ] asm#asm;3.2!asm.jar (28ms)\n",
      "downloading https://repo1.maven.org/maven2/org/apache/httpcomponents/httpclient/4.2.5/httpclient-4.2.5.jar ...\n",
      "\t[SUCCESSFUL ] org.apache.httpcomponents#httpclient;4.2.5!httpclient.jar (101ms)\n",
      "downloading https://repo1.maven.org/maven2/org/apache/httpcomponents/httpcore/4.2.5/httpcore-4.2.5.jar ...\n",
      "\t[SUCCESSFUL ] org.apache.httpcomponents#httpcore;4.2.5!httpcore.jar (58ms)\n",
      "downloading https://repo1.maven.org/maven2/com/jamesmurty/utils/java-xmlbuilder/0.4/java-xmlbuilder-0.4.jar ...\n",
      "\t[SUCCESSFUL ] com.jamesmurty.utils#java-xmlbuilder;0.4!java-xmlbuilder.jar (25ms)\n",
      "downloading https://repo1.maven.org/maven2/commons-digester/commons-digester/1.8/commons-digester-1.8.jar ...\n",
      "\t[SUCCESSFUL ] commons-digester#commons-digester;1.8!commons-digester.jar (54ms)\n",
      "downloading https://repo1.maven.org/maven2/commons-beanutils/commons-beanutils-core/1.8.0/commons-beanutils-core-1.8.0.jar ...\n",
      "\t[SUCCESSFUL ] commons-beanutils#commons-beanutils-core;1.8.0!commons-beanutils-core.jar (45ms)\n",
      "downloading https://repo1.maven.org/maven2/commons-beanutils/commons-beanutils/1.7.0/commons-beanutils-1.7.0.jar ...\n",
      "\t[SUCCESSFUL ] commons-beanutils#commons-beanutils;1.7.0!commons-beanutils.jar (36ms)\n",
      "downloading https://repo1.maven.org/maven2/com/thoughtworks/paranamer/paranamer/2.3/paranamer-2.3.jar ...\n",
      "\t[SUCCESSFUL ] com.thoughtworks.paranamer#paranamer;2.3!paranamer.jar (165ms)\n",
      "downloading https://repo1.maven.org/maven2/org/xerial/snappy/snappy-java/1.0.4.1/snappy-java-1.0.4.1.jar ...\n",
      "\t[SUCCESSFUL ] org.xerial.snappy#snappy-java;1.0.4.1!snappy-java.jar(bundle) (265ms)\n",
      "downloading https://repo1.maven.org/maven2/org/tukaani/xz/1.0/xz-1.0.jar ...\n",
      "\t[SUCCESSFUL ] org.tukaani#xz;1.0!xz.jar (38ms)\n",
      "downloading https://repo1.maven.org/maven2/org/apache/directory/server/apacheds-kerberos-codec/2.0.0-M15/apacheds-kerberos-codec-2.0.0-M15.jar ...\n",
      "\t[SUCCESSFUL ] org.apache.directory.server#apacheds-kerberos-codec;2.0.0-M15!apacheds-kerberos-codec.jar(bundle) (173ms)\n",
      "downloading https://repo1.maven.org/maven2/org/apache/curator/curator-framework/2.7.1/curator-framework-2.7.1.jar ...\n",
      "\t[SUCCESSFUL ] org.apache.curator#curator-framework;2.7.1!curator-framework.jar(bundle) (49ms)\n",
      "downloading https://repo1.maven.org/maven2/org/apache/directory/server/apacheds-i18n/2.0.0-M15/apacheds-i18n-2.0.0-M15.jar ...\n",
      "\t[SUCCESSFUL ] org.apache.directory.server#apacheds-i18n;2.0.0-M15!apacheds-i18n.jar(bundle) (23ms)\n",
      "downloading https://repo1.maven.org/maven2/org/apache/directory/api/api-asn1-api/1.0.0-M20/api-asn1-api-1.0.0-M20.jar ...\n",
      "\t[SUCCESSFUL ] org.apache.directory.api#api-asn1-api;1.0.0-M20!api-asn1-api.jar(bundle) (20ms)\n",
      "downloading https://repo1.maven.org/maven2/org/apache/directory/api/api-util/1.0.0-M20/api-util-1.0.0-M20.jar ...\n",
      "\t[SUCCESSFUL ] org.apache.directory.api#api-util;1.0.0-M20!api-util.jar(bundle) (37ms)\n",
      "downloading https://repo1.maven.org/maven2/org/slf4j/slf4j-log4j12/1.7.10/slf4j-log4j12-1.7.10.jar ...\n",
      "\t[SUCCESSFUL ] org.slf4j#slf4j-log4j12;1.7.10!slf4j-log4j12.jar (17ms)\n",
      "downloading https://repo1.maven.org/maven2/io/netty/netty/3.6.2.Final/netty-3.6.2.Final.jar ...\n",
      "\t[SUCCESSFUL ] io.netty#netty;3.6.2.Final!netty.jar(bundle) (281ms)\n",
      "downloading https://repo1.maven.org/maven2/javax/servlet/jsp/jsp-api/2.1/jsp-api-2.1.jar ...\n",
      "\t[SUCCESSFUL ] javax.servlet.jsp#jsp-api;2.1!jsp-api.jar (34ms)\n",
      "downloading https://repo1.maven.org/maven2/jline/jline/0.9.94/jline-0.9.94.jar ...\n",
      "\t[SUCCESSFUL ] jline#jline;0.9.94!jline.jar (45ms)\n",
      "downloading https://repo1.maven.org/maven2/junit/junit/4.11/junit-4.11.jar ...\n",
      "\t[SUCCESSFUL ] junit#junit;4.11!junit.jar (71ms)\n",
      "downloading https://repo1.maven.org/maven2/org/hamcrest/hamcrest-core/1.3/hamcrest-core-1.3.jar ...\n",
      "\t[SUCCESSFUL ] org.hamcrest#hamcrest-core;1.3!hamcrest-core.jar (26ms)\n",
      "downloading https://repo1.maven.org/maven2/com/fasterxml/jackson/core/jackson-core/2.2.3/jackson-core-2.2.3.jar ...\n",
      "\t[SUCCESSFUL ] com.fasterxml.jackson.core#jackson-core;2.2.3!jackson-core.jar (48ms)\n",
      "downloading https://repo1.maven.org/maven2/joda-time/joda-time/2.10.13/joda-time-2.10.13.jar ...\n",
      "\t[SUCCESSFUL ] joda-time#joda-time;2.10.13!joda-time.jar (247ms)\n",
      ":: resolution report :: resolve 59083ms :: artifacts dl 9186ms\n",
      "\t:: modules in use:\n",
      "\tasm#asm;3.2 from central in [default]\n",
      "\tcom.amazonaws#aws-java-sdk;1.7.4 from central in [default]\n",
      "\tcom.fasterxml.jackson.core#jackson-annotations;2.2.3 from central in [default]\n",
      "\tcom.fasterxml.jackson.core#jackson-core;2.2.3 from central in [default]\n",
      "\tcom.fasterxml.jackson.core#jackson-databind;2.2.3 from central in [default]\n",
      "\tcom.google.code.findbugs#jsr305;3.0.0 from central in [default]\n",
      "\tcom.google.code.gson#gson;2.2.4 from central in [default]\n",
      "\tcom.google.guava#guava;11.0.2 from central in [default]\n",
      "\tcom.google.protobuf#protobuf-java;2.5.0 from central in [default]\n",
      "\tcom.jamesmurty.utils#java-xmlbuilder;0.4 from central in [default]\n",
      "\tcom.jcraft#jsch;0.1.42 from central in [default]\n",
      "\tcom.sun.jersey#jersey-core;1.9 from central in [default]\n",
      "\tcom.sun.jersey#jersey-json;1.9 from central in [default]\n",
      "\tcom.sun.jersey#jersey-server;1.9 from central in [default]\n",
      "\tcom.sun.xml.bind#jaxb-impl;2.2.3-1 from central in [default]\n",
      "\tcom.thoughtworks.paranamer#paranamer;2.3 from central in [default]\n",
      "\tcommons-beanutils#commons-beanutils;1.7.0 from central in [default]\n",
      "\tcommons-beanutils#commons-beanutils-core;1.8.0 from central in [default]\n",
      "\tcommons-cli#commons-cli;1.2 from central in [default]\n",
      "\tcommons-codec#commons-codec;1.4 from central in [default]\n",
      "\tcommons-collections#commons-collections;3.2.1 from central in [default]\n",
      "\tcommons-configuration#commons-configuration;1.6 from central in [default]\n",
      "\tcommons-digester#commons-digester;1.8 from central in [default]\n",
      "\tcommons-httpclient#commons-httpclient;3.1 from central in [default]\n",
      "\tcommons-io#commons-io;2.4 from central in [default]\n",
      "\tcommons-lang#commons-lang;2.6 from central in [default]\n",
      "\tcommons-logging#commons-logging;1.1.3 from central in [default]\n",
      "\tcommons-net#commons-net;3.1 from central in [default]\n",
      "\tio.netty#netty;3.6.2.Final from central in [default]\n",
      "\tjavax.activation#activation;1.1 from central in [default]\n",
      "\tjavax.servlet#servlet-api;2.5 from central in [default]\n",
      "\tjavax.servlet.jsp#jsp-api;2.1 from central in [default]\n",
      "\tjavax.xml.bind#jaxb-api;2.2.2 from central in [default]\n",
      "\tjavax.xml.stream#stax-api;1.0-2 from central in [default]\n",
      "\tjline#jline;0.9.94 from central in [default]\n",
      "\tjoda-time#joda-time;2.10.13 from central in [default]\n",
      "\tjunit#junit;4.11 from central in [default]\n",
      "\tlog4j#log4j;1.2.17 from central in [default]\n",
      "\tnet.java.dev.jets3t#jets3t;0.9.0 from central in [default]\n",
      "\torg.apache.avro#avro;1.7.4 from central in [default]\n",
      "\torg.apache.commons#commons-compress;1.4.1 from central in [default]\n",
      "\torg.apache.commons#commons-math3;3.1.1 from central in [default]\n",
      "\torg.apache.curator#curator-client;2.7.1 from central in [default]\n",
      "\torg.apache.curator#curator-framework;2.7.1 from central in [default]\n",
      "\torg.apache.curator#curator-recipes;2.7.1 from central in [default]\n",
      "\torg.apache.directory.api#api-asn1-api;1.0.0-M20 from central in [default]\n",
      "\torg.apache.directory.api#api-util;1.0.0-M20 from central in [default]\n",
      "\torg.apache.directory.server#apacheds-i18n;2.0.0-M15 from central in [default]\n",
      "\torg.apache.directory.server#apacheds-kerberos-codec;2.0.0-M15 from central in [default]\n",
      "\torg.apache.hadoop#hadoop-annotations;2.7.0 from central in [default]\n",
      "\torg.apache.hadoop#hadoop-auth;2.7.0 from central in [default]\n",
      "\torg.apache.hadoop#hadoop-aws;2.7.0 from central in [default]\n",
      "\torg.apache.hadoop#hadoop-common;2.7.0 from central in [default]\n",
      "\torg.apache.htrace#htrace-core;3.1.0-incubating from central in [default]\n",
      "\torg.apache.httpcomponents#httpclient;4.2.5 from central in [default]\n",
      "\torg.apache.httpcomponents#httpcore;4.2.5 from central in [default]\n",
      "\torg.apache.zookeeper#zookeeper;3.4.6 from central in [default]\n",
      "\torg.codehaus.jackson#jackson-core-asl;1.9.13 from central in [default]\n",
      "\torg.codehaus.jackson#jackson-jaxrs;1.9.13 from central in [default]\n",
      "\torg.codehaus.jackson#jackson-mapper-asl;1.9.13 from central in [default]\n",
      "\torg.codehaus.jackson#jackson-xc;1.9.13 from central in [default]\n",
      "\torg.codehaus.jettison#jettison;1.1 from central in [default]\n",
      "\torg.hamcrest#hamcrest-core;1.3 from central in [default]\n",
      "\torg.mortbay.jetty#jetty;6.1.26 from central in [default]\n",
      "\torg.mortbay.jetty#jetty-util;6.1.26 from central in [default]\n",
      "\torg.slf4j#slf4j-api;1.7.10 from central in [default]\n",
      "\torg.slf4j#slf4j-log4j12;1.7.10 from central in [default]\n",
      "\torg.tukaani#xz;1.0 from central in [default]\n",
      "\torg.xerial.snappy#snappy-java;1.0.4.1 from central in [default]\n",
      "\txmlenc#xmlenc;0.52 from central in [default]\n",
      "\t---------------------------------------------------------------------\n",
      "\t|                  |            modules            ||   artifacts   |\n",
      "\t|       conf       | number| search|dwnlded|evicted|| number|dwnlded|\n",
      "\t---------------------------------------------------------------------\n",
      "\t|      default     |   70  |   70  |   70  |   0   ||   70  |   70  |\n",
      "\t---------------------------------------------------------------------\n",
      ":: retrieving :: org.apache.spark#spark-submit-parent-d48f107f-066e-4d1e-8936-3663db56b916\n",
      "\tconfs: [default]\n",
      "\t70 artifacts copied, 0 already retrieved (36369kB/87ms)\n",
      "22/03/06 12:44:24 WARN NativeCodeLoader: Unable to load native-hadoop library for your platform... using builtin-java classes where applicable\n",
      "Using Spark's default log4j profile: org/apache/spark/log4j-defaults.properties\n",
      "Setting default log level to \"WARN\".\n",
      "To adjust logging level use sc.setLogLevel(newLevel). For SparkR, use setLogLevel(newLevel).\n"
     ]
    }
   ],
   "source": [
    "spark = SparkSession \\\n",
    "    .builder \\\n",
    "    .config(\"spark.jars.packages\", \"org.apache.hadoop:hadoop-aws:2.7.0\") \\\n",
    "    .getOrCreate()"
   ],
   "metadata": {
    "collapsed": false,
    "pycharm": {
     "name": "#%%\n"
    }
   }
  },
  {
   "cell_type": "code",
   "execution_count": 70,
   "outputs": [],
   "source": [
    "song_data = \"data/song_data/*/*/*/*.json\""
   ],
   "metadata": {
    "collapsed": false,
    "pycharm": {
     "name": "#%%\n"
    }
   }
  },
  {
   "cell_type": "code",
   "execution_count": 71,
   "outputs": [
    {
     "name": "stderr",
     "output_type": "stream",
     "text": [
      "                                                                                \r"
     ]
    }
   ],
   "source": [
    "df = spark.read.json(song_data)"
   ],
   "metadata": {
    "collapsed": false,
    "pycharm": {
     "name": "#%%\n"
    }
   }
  },
  {
   "cell_type": "code",
   "execution_count": 72,
   "outputs": [
    {
     "name": "stdout",
     "output_type": "stream",
     "text": [
      "root\n",
      " |-- artist_id: string (nullable = true)\n",
      " |-- artist_latitude: double (nullable = true)\n",
      " |-- artist_location: string (nullable = true)\n",
      " |-- artist_longitude: double (nullable = true)\n",
      " |-- artist_name: string (nullable = true)\n",
      " |-- duration: double (nullable = true)\n",
      " |-- num_songs: long (nullable = true)\n",
      " |-- song_id: string (nullable = true)\n",
      " |-- title: string (nullable = true)\n",
      " |-- year: long (nullable = true)\n",
      "\n"
     ]
    }
   ],
   "source": [
    "df.printSchema()"
   ],
   "metadata": {
    "collapsed": false,
    "pycharm": {
     "name": "#%%\n"
    }
   }
  },
  {
   "cell_type": "code",
   "execution_count": 6,
   "outputs": [
    {
     "name": "stdout",
     "output_type": "stream",
     "text": [
      "+------------------+--------------------+-----------------+---------------+----------------+\n",
      "|         artist_id|         artist_name|  artist_location|artist_latitude|artist_longitude|\n",
      "+------------------+--------------------+-----------------+---------------+----------------+\n",
      "|ARDR4AC1187FB371A1|Montserrat Caball...|                 |           null|            null|\n",
      "|AREBBGV1187FB523D2|Mike Jones (Featu...|      Houston, TX|           null|            null|\n",
      "|ARMAC4T1187FB3FA4C|The Dillinger Esc...|Morris Plains, NJ|       40.82624|       -74.47995|\n",
      "|ARPBNLO1187FB3D52F|            Tiny Tim|     New York, NY|       40.71455|       -74.00712|\n",
      "|ARDNS031187B9924F0|          Tim Wilson|          Georgia|       32.67828|       -83.22295|\n",
      "+------------------+--------------------+-----------------+---------------+----------------+\n",
      "only showing top 5 rows\n",
      "\n"
     ]
    }
   ],
   "source": [
    "df.select(\"artist_id\", \"artist_name\", \"artist_location\", \"artist_latitude\", \"artist_longitude\").show(5)"
   ],
   "metadata": {
    "collapsed": false,
    "pycharm": {
     "name": "#%%\n"
    }
   }
  },
  {
   "cell_type": "code",
   "execution_count": 7,
   "outputs": [
    {
     "name": "stdout",
     "output_type": "stream",
     "text": [
      "+------------------+--------------------+------------------+----+---------+\n",
      "|           song_id|               title|         artist_id|year| duration|\n",
      "+------------------+--------------------+------------------+----+---------+\n",
      "|SOBAYLL12A8C138AF9|Sono andati? Fing...|ARDR4AC1187FB371A1|   0|511.16363|\n",
      "|SOOLYAZ12A6701F4A6|Laws Patrolling (...|AREBBGV1187FB523D2|   0|173.66159|\n",
      "|SOBBUGU12A8C13E95D|Setting Fire to S...|ARMAC4T1187FB3FA4C|2004|207.77751|\n",
      "|SOAOIBZ12AB01815BE|I Hold Your Hand ...|ARPBNLO1187FB3D52F|2000| 43.36281|\n",
      "|SONYPOM12A8C13B2D7|I Think My Wife I...|ARDNS031187B9924F0|2005|186.48771|\n",
      "+------------------+--------------------+------------------+----+---------+\n",
      "only showing top 5 rows\n",
      "\n"
     ]
    }
   ],
   "source": [
    "df.select(\"song_id\", \"title\", \"artist_id\", \"year\", \"duration\").show(5)"
   ],
   "metadata": {
    "collapsed": false,
    "pycharm": {
     "name": "#%%\n"
    }
   }
  },
  {
   "cell_type": "code",
   "execution_count": 73,
   "outputs": [],
   "source": [
    "songs_table = df.select(\"song_id\", \"title\", \"artist_id\", \"year\", \"duration\").dropDuplicates()"
   ],
   "metadata": {
    "collapsed": false,
    "pycharm": {
     "name": "#%%\n"
    }
   }
  },
  {
   "cell_type": "code",
   "execution_count": 17,
   "outputs": [
    {
     "name": "stderr",
     "output_type": "stream",
     "text": [
      "22/03/06 12:56:56 WARN MemoryManager: Total allocation exceeds 95.00% (906,992,014 bytes) of heap memory\n",
      "Scaling row group sizes to 96.54% for 7 writers\n",
      "22/03/06 12:56:56 WARN MemoryManager: Total allocation exceeds 95.00% (906,992,014 bytes) of heap memory\n",
      "Scaling row group sizes to 84.47% for 8 writers\n",
      "22/03/06 12:56:56 WARN MemoryManager: Total allocation exceeds 95.00% (906,992,014 bytes) of heap memory\n",
      "Scaling row group sizes to 96.54% for 7 writers\n",
      "22/03/06 12:56:57 WARN MemoryManager: Total allocation exceeds 95.00% (906,992,014 bytes) of heap memory\n",
      "Scaling row group sizes to 96.54% for 7 writers\n",
      "22/03/06 12:56:57 WARN MemoryManager: Total allocation exceeds 95.00% (906,992,014 bytes) of heap memory\n",
      "Scaling row group sizes to 84.47% for 8 writers\n",
      "22/03/06 12:56:57 WARN MemoryManager: Total allocation exceeds 95.00% (906,992,014 bytes) of heap memory\n",
      "Scaling row group sizes to 96.54% for 7 writers\n",
      "22/03/06 12:56:58 WARN MemoryManager: Total allocation exceeds 95.00% (906,992,014 bytes) of heap memory\n",
      "Scaling row group sizes to 96.54% for 7 writers\n",
      "22/03/06 12:56:58 WARN MemoryManager: Total allocation exceeds 95.00% (906,992,014 bytes) of heap memory\n",
      "Scaling row group sizes to 84.47% for 8 writers\n",
      "22/03/06 12:56:58 WARN MemoryManager: Total allocation exceeds 95.00% (906,992,014 bytes) of heap memory\n",
      "Scaling row group sizes to 96.54% for 7 writers\n",
      "22/03/06 12:56:58 WARN MemoryManager: Total allocation exceeds 95.00% (906,992,014 bytes) of heap memory\n",
      "Scaling row group sizes to 96.54% for 7 writers\n",
      "22/03/06 12:56:58 WARN MemoryManager: Total allocation exceeds 95.00% (906,992,014 bytes) of heap memory\n",
      "Scaling row group sizes to 84.47% for 8 writers\n",
      "22/03/06 12:56:58 WARN MemoryManager: Total allocation exceeds 95.00% (906,992,014 bytes) of heap memory\n",
      "Scaling row group sizes to 96.54% for 7 writers\n",
      "                                                                                \r"
     ]
    }
   ],
   "source": [
    "songs_table = songs_table.write.partitionBy(\"year\", \"artist_id\").parquet(\"./data/songs_table.parquet\")"
   ],
   "metadata": {
    "collapsed": false,
    "pycharm": {
     "name": "#%%\n"
    }
   }
  },
  {
   "cell_type": "code",
   "execution_count": 18,
   "outputs": [],
   "source": [
    "parDF = spark.read.parquet(\"./data/songs_table.parquet\")"
   ],
   "metadata": {
    "collapsed": false,
    "pycharm": {
     "name": "#%%\n"
    }
   }
  },
  {
   "cell_type": "code",
   "execution_count": 19,
   "outputs": [
    {
     "name": "stdout",
     "output_type": "stream",
     "text": [
      "root\n",
      " |-- song_id: string (nullable = true)\n",
      " |-- title: string (nullable = true)\n",
      " |-- duration: double (nullable = true)\n",
      " |-- year: integer (nullable = true)\n",
      " |-- artist_id: string (nullable = true)\n",
      "\n"
     ]
    }
   ],
   "source": [
    "parDF.printSchema()"
   ],
   "metadata": {
    "collapsed": false,
    "pycharm": {
     "name": "#%%\n"
    }
   }
  },
  {
   "cell_type": "code",
   "execution_count": 21,
   "outputs": [],
   "source": [
    "parDF.createOrReplaceTempView(\"songs_table\")"
   ],
   "metadata": {
    "collapsed": false,
    "pycharm": {
     "name": "#%%\n"
    }
   }
  },
  {
   "cell_type": "code",
   "execution_count": 22,
   "outputs": [
    {
     "name": "stdout",
     "output_type": "stream",
     "text": [
      "+------------------+--------------------+---------+----+------------------+\n",
      "|           song_id|               title| duration|year|         artist_id|\n",
      "+------------------+--------------------+---------+----+------------------+\n",
      "|SOAOIBZ12AB01815BE|I Hold Your Hand ...| 43.36281|2000|ARPBNLO1187FB3D52F|\n",
      "|SONYPOM12A8C13B2D7|I Think My Wife I...|186.48771|2005|ARDNS031187B9924F0|\n",
      "|SODREIN12A58A7F2E5|A Whiter Shade Of...|326.00771|   0|ARLTWXK1187FB5A3F8|\n",
      "|SOYMRWW12A6D4FAB14|The Moon And I (O...| 267.7024|   0|ARKFYS91187B98E58F|\n",
      "|SOWQTQZ12A58A7B63E|Streets On Fire (...|279.97995|   0|ARPFHN61187FB575F6|\n",
      "+------------------+--------------------+---------+----+------------------+\n",
      "only showing top 5 rows\n",
      "\n"
     ]
    }
   ],
   "source": [
    "spark.sql(\"SELECT * FROM songs_table\").show(5)"
   ],
   "metadata": {
    "collapsed": false,
    "pycharm": {
     "name": "#%%\n"
    }
   }
  },
  {
   "cell_type": "code",
   "execution_count": 25,
   "outputs": [
    {
     "name": "stderr",
     "output_type": "stream",
     "text": [
      "                                                                                \r"
     ]
    }
   ],
   "source": [
    "df_logs = spark.read.json(\"./data/log-data/*.json\")"
   ],
   "metadata": {
    "collapsed": false,
    "pycharm": {
     "name": "#%%\n"
    }
   }
  },
  {
   "cell_type": "code",
   "execution_count": 26,
   "outputs": [
    {
     "name": "stdout",
     "output_type": "stream",
     "text": [
      "root\n",
      " |-- artist: string (nullable = true)\n",
      " |-- auth: string (nullable = true)\n",
      " |-- firstName: string (nullable = true)\n",
      " |-- gender: string (nullable = true)\n",
      " |-- itemInSession: long (nullable = true)\n",
      " |-- lastName: string (nullable = true)\n",
      " |-- length: double (nullable = true)\n",
      " |-- level: string (nullable = true)\n",
      " |-- location: string (nullable = true)\n",
      " |-- method: string (nullable = true)\n",
      " |-- page: string (nullable = true)\n",
      " |-- registration: double (nullable = true)\n",
      " |-- sessionId: long (nullable = true)\n",
      " |-- song: string (nullable = true)\n",
      " |-- status: long (nullable = true)\n",
      " |-- ts: long (nullable = true)\n",
      " |-- userAgent: string (nullable = true)\n",
      " |-- userId: string (nullable = true)\n",
      "\n"
     ]
    }
   ],
   "source": [
    "df_logs.printSchema()"
   ],
   "metadata": {
    "collapsed": false,
    "pycharm": {
     "name": "#%%\n"
    }
   }
  },
  {
   "cell_type": "code",
   "execution_count": 28,
   "outputs": [
    {
     "data": {
      "text/plain": "        artist       auth firstName gender  itemInSession  lastName  \\\n0     Harmonia  Logged In      Ryan      M              0     Smith   \n1  The Prodigy  Logged In      Ryan      M              1     Smith   \n2        Train  Logged In      Ryan      M              2     Smith   \n3  Sony Wonder  Logged In    Samuel      M              0  Gonzalez   \n4    Van Halen  Logged In     Tegan      F              2    Levine   \n\n      length level                              location method      page  \\\n0  655.77751  free    San Jose-Sunnyvale-Santa Clara, CA    PUT  NextSong   \n1  260.07465  free    San Jose-Sunnyvale-Santa Clara, CA    PUT  NextSong   \n2  205.45261  free    San Jose-Sunnyvale-Santa Clara, CA    PUT  NextSong   \n3  218.06975  free  Houston-The Woodlands-Sugar Land, TX    PUT  NextSong   \n4  289.38404  paid           Portland-South Portland, ME    PUT  NextSong   \n\n   registration  sessionId                                            song  \\\n0  1.541017e+12        583                                   Sehr kosmisch   \n1  1.541017e+12        583                                 The Big Gundown   \n2  1.541017e+12        583                                        Marry Me   \n3  1.540493e+12        597                                       Blackbird   \n4  1.540794e+12        602  Best Of Both Worlds (Remastered Album Version)   \n\n   status             ts                                          userAgent  \\\n0     200  1542241826796  \"Mozilla/5.0 (X11; Linux x86_64) AppleWebKit/5...   \n1     200  1542242481796  \"Mozilla/5.0 (X11; Linux x86_64) AppleWebKit/5...   \n2     200  1542242741796  \"Mozilla/5.0 (X11; Linux x86_64) AppleWebKit/5...   \n3     200  1542253449796  \"Mozilla/5.0 (Macintosh; Intel Mac OS X 10_9_4...   \n4     200  1542260935796  \"Mozilla/5.0 (Macintosh; Intel Mac OS X 10_9_4...   \n\n  userId  \n0     26  \n1     26  \n2     26  \n3     61  \n4     80  ",
      "text/html": "<div>\n<style scoped>\n    .dataframe tbody tr th:only-of-type {\n        vertical-align: middle;\n    }\n\n    .dataframe tbody tr th {\n        vertical-align: top;\n    }\n\n    .dataframe thead th {\n        text-align: right;\n    }\n</style>\n<table border=\"1\" class=\"dataframe\">\n  <thead>\n    <tr style=\"text-align: right;\">\n      <th></th>\n      <th>artist</th>\n      <th>auth</th>\n      <th>firstName</th>\n      <th>gender</th>\n      <th>itemInSession</th>\n      <th>lastName</th>\n      <th>length</th>\n      <th>level</th>\n      <th>location</th>\n      <th>method</th>\n      <th>page</th>\n      <th>registration</th>\n      <th>sessionId</th>\n      <th>song</th>\n      <th>status</th>\n      <th>ts</th>\n      <th>userAgent</th>\n      <th>userId</th>\n    </tr>\n  </thead>\n  <tbody>\n    <tr>\n      <th>0</th>\n      <td>Harmonia</td>\n      <td>Logged In</td>\n      <td>Ryan</td>\n      <td>M</td>\n      <td>0</td>\n      <td>Smith</td>\n      <td>655.77751</td>\n      <td>free</td>\n      <td>San Jose-Sunnyvale-Santa Clara, CA</td>\n      <td>PUT</td>\n      <td>NextSong</td>\n      <td>1.541017e+12</td>\n      <td>583</td>\n      <td>Sehr kosmisch</td>\n      <td>200</td>\n      <td>1542241826796</td>\n      <td>\"Mozilla/5.0 (X11; Linux x86_64) AppleWebKit/5...</td>\n      <td>26</td>\n    </tr>\n    <tr>\n      <th>1</th>\n      <td>The Prodigy</td>\n      <td>Logged In</td>\n      <td>Ryan</td>\n      <td>M</td>\n      <td>1</td>\n      <td>Smith</td>\n      <td>260.07465</td>\n      <td>free</td>\n      <td>San Jose-Sunnyvale-Santa Clara, CA</td>\n      <td>PUT</td>\n      <td>NextSong</td>\n      <td>1.541017e+12</td>\n      <td>583</td>\n      <td>The Big Gundown</td>\n      <td>200</td>\n      <td>1542242481796</td>\n      <td>\"Mozilla/5.0 (X11; Linux x86_64) AppleWebKit/5...</td>\n      <td>26</td>\n    </tr>\n    <tr>\n      <th>2</th>\n      <td>Train</td>\n      <td>Logged In</td>\n      <td>Ryan</td>\n      <td>M</td>\n      <td>2</td>\n      <td>Smith</td>\n      <td>205.45261</td>\n      <td>free</td>\n      <td>San Jose-Sunnyvale-Santa Clara, CA</td>\n      <td>PUT</td>\n      <td>NextSong</td>\n      <td>1.541017e+12</td>\n      <td>583</td>\n      <td>Marry Me</td>\n      <td>200</td>\n      <td>1542242741796</td>\n      <td>\"Mozilla/5.0 (X11; Linux x86_64) AppleWebKit/5...</td>\n      <td>26</td>\n    </tr>\n    <tr>\n      <th>3</th>\n      <td>Sony Wonder</td>\n      <td>Logged In</td>\n      <td>Samuel</td>\n      <td>M</td>\n      <td>0</td>\n      <td>Gonzalez</td>\n      <td>218.06975</td>\n      <td>free</td>\n      <td>Houston-The Woodlands-Sugar Land, TX</td>\n      <td>PUT</td>\n      <td>NextSong</td>\n      <td>1.540493e+12</td>\n      <td>597</td>\n      <td>Blackbird</td>\n      <td>200</td>\n      <td>1542253449796</td>\n      <td>\"Mozilla/5.0 (Macintosh; Intel Mac OS X 10_9_4...</td>\n      <td>61</td>\n    </tr>\n    <tr>\n      <th>4</th>\n      <td>Van Halen</td>\n      <td>Logged In</td>\n      <td>Tegan</td>\n      <td>F</td>\n      <td>2</td>\n      <td>Levine</td>\n      <td>289.38404</td>\n      <td>paid</td>\n      <td>Portland-South Portland, ME</td>\n      <td>PUT</td>\n      <td>NextSong</td>\n      <td>1.540794e+12</td>\n      <td>602</td>\n      <td>Best Of Both Worlds (Remastered Album Version)</td>\n      <td>200</td>\n      <td>1542260935796</td>\n      <td>\"Mozilla/5.0 (Macintosh; Intel Mac OS X 10_9_4...</td>\n      <td>80</td>\n    </tr>\n  </tbody>\n</table>\n</div>"
     },
     "execution_count": 28,
     "metadata": {},
     "output_type": "execute_result"
    }
   ],
   "source": [
    "df_logs.filter(df_logs.page == \"NextSong\").limit(5).toPandas()"
   ],
   "metadata": {
    "collapsed": false,
    "pycharm": {
     "name": "#%%\n"
    }
   }
  },
  {
   "cell_type": "code",
   "execution_count": 30,
   "outputs": [
    {
     "name": "stderr",
     "output_type": "stream",
     "text": [
      "                                                                                \r"
     ]
    },
    {
     "data": {
      "text/plain": "  user_id firstName  lastName gender level\n0      26      Ryan     Smith      M  free\n1      26      Ryan     Smith      M  free\n2      26      Ryan     Smith      M  free\n3       9     Wyatt     Scott      M  free\n4      12    Austin   Rosales      M  free\n5      61    Samuel  Gonzalez      M  free\n6      61    Samuel  Gonzalez      M  free\n7              None      None   None  paid\n8      80     Tegan    Levine      F  paid\n9      80     Tegan    Levine      F  paid",
      "text/html": "<div>\n<style scoped>\n    .dataframe tbody tr th:only-of-type {\n        vertical-align: middle;\n    }\n\n    .dataframe tbody tr th {\n        vertical-align: top;\n    }\n\n    .dataframe thead th {\n        text-align: right;\n    }\n</style>\n<table border=\"1\" class=\"dataframe\">\n  <thead>\n    <tr style=\"text-align: right;\">\n      <th></th>\n      <th>user_id</th>\n      <th>firstName</th>\n      <th>lastName</th>\n      <th>gender</th>\n      <th>level</th>\n    </tr>\n  </thead>\n  <tbody>\n    <tr>\n      <th>0</th>\n      <td>26</td>\n      <td>Ryan</td>\n      <td>Smith</td>\n      <td>M</td>\n      <td>free</td>\n    </tr>\n    <tr>\n      <th>1</th>\n      <td>26</td>\n      <td>Ryan</td>\n      <td>Smith</td>\n      <td>M</td>\n      <td>free</td>\n    </tr>\n    <tr>\n      <th>2</th>\n      <td>26</td>\n      <td>Ryan</td>\n      <td>Smith</td>\n      <td>M</td>\n      <td>free</td>\n    </tr>\n    <tr>\n      <th>3</th>\n      <td>9</td>\n      <td>Wyatt</td>\n      <td>Scott</td>\n      <td>M</td>\n      <td>free</td>\n    </tr>\n    <tr>\n      <th>4</th>\n      <td>12</td>\n      <td>Austin</td>\n      <td>Rosales</td>\n      <td>M</td>\n      <td>free</td>\n    </tr>\n    <tr>\n      <th>5</th>\n      <td>61</td>\n      <td>Samuel</td>\n      <td>Gonzalez</td>\n      <td>M</td>\n      <td>free</td>\n    </tr>\n    <tr>\n      <th>6</th>\n      <td>61</td>\n      <td>Samuel</td>\n      <td>Gonzalez</td>\n      <td>M</td>\n      <td>free</td>\n    </tr>\n    <tr>\n      <th>7</th>\n      <td></td>\n      <td>None</td>\n      <td>None</td>\n      <td>None</td>\n      <td>paid</td>\n    </tr>\n    <tr>\n      <th>8</th>\n      <td>80</td>\n      <td>Tegan</td>\n      <td>Levine</td>\n      <td>F</td>\n      <td>paid</td>\n    </tr>\n    <tr>\n      <th>9</th>\n      <td>80</td>\n      <td>Tegan</td>\n      <td>Levine</td>\n      <td>F</td>\n      <td>paid</td>\n    </tr>\n  </tbody>\n</table>\n</div>"
     },
     "execution_count": 30,
     "metadata": {},
     "output_type": "execute_result"
    }
   ],
   "source": [
    "df_logs.select(\"userId\", \"firstName\", \"lastName\", \"gender\", \"level\").withColumnRenamed(\"userId\",\"user_id\").withColumnRenamed().limit(10).toPandas()"
   ],
   "metadata": {
    "collapsed": false,
    "pycharm": {
     "name": "#%%\n"
    }
   }
  },
  {
   "cell_type": "code",
   "execution_count": 51,
   "outputs": [],
   "source": [
    "from pyspark.sql.types import TimestampType"
   ],
   "metadata": {
    "collapsed": false,
    "pycharm": {
     "name": "#%%\n"
    }
   }
  },
  {
   "cell_type": "code",
   "execution_count": 52,
   "outputs": [],
   "source": [
    "@udf(returnType= TimestampType())\n",
    "def get_timestamp(ts):\n",
    "    return datetime.fromtimestamp(ts/1000.0)"
   ],
   "metadata": {
    "collapsed": false,
    "pycharm": {
     "name": "#%%\n"
    }
   }
  },
  {
   "cell_type": "code",
   "execution_count": 53,
   "outputs": [
    {
     "name": "stderr",
     "output_type": "stream",
     "text": [
      "[Stage 31:>                                                         (0 + 1) / 1]\r"
     ]
    },
    {
     "name": "stdout",
     "output_type": "stream",
     "text": [
      "+--------------------+\n",
      "|          start_time|\n",
      "+--------------------+\n",
      "|2018-11-15 01:30:...|\n",
      "|2018-11-15 01:41:...|\n",
      "|2018-11-15 01:45:...|\n",
      "|2018-11-15 02:57:...|\n",
      "|2018-11-15 04:29:...|\n",
      "+--------------------+\n",
      "only showing top 5 rows\n",
      "\n"
     ]
    },
    {
     "name": "stderr",
     "output_type": "stream",
     "text": [
      "                                                                                \r"
     ]
    }
   ],
   "source": [
    "df_logs.select(get_timestamp(\"ts\").alias(\"start_time\")).show(5)"
   ],
   "metadata": {
    "collapsed": false,
    "pycharm": {
     "name": "#%%\n"
    }
   }
  },
  {
   "cell_type": "code",
   "execution_count": 54,
   "outputs": [],
   "source": [
    "new_df = df_logs.withColumn(\"start_time\", get_timestamp(df_logs.ts))"
   ],
   "metadata": {
    "collapsed": false,
    "pycharm": {
     "name": "#%%\n"
    }
   }
  },
  {
   "cell_type": "code",
   "execution_count": 55,
   "outputs": [
    {
     "name": "stdout",
     "output_type": "stream",
     "text": [
      "root\n",
      " |-- artist: string (nullable = true)\n",
      " |-- auth: string (nullable = true)\n",
      " |-- firstName: string (nullable = true)\n",
      " |-- gender: string (nullable = true)\n",
      " |-- itemInSession: long (nullable = true)\n",
      " |-- lastName: string (nullable = true)\n",
      " |-- length: double (nullable = true)\n",
      " |-- level: string (nullable = true)\n",
      " |-- location: string (nullable = true)\n",
      " |-- method: string (nullable = true)\n",
      " |-- page: string (nullable = true)\n",
      " |-- registration: double (nullable = true)\n",
      " |-- sessionId: long (nullable = true)\n",
      " |-- song: string (nullable = true)\n",
      " |-- status: long (nullable = true)\n",
      " |-- ts: long (nullable = true)\n",
      " |-- userAgent: string (nullable = true)\n",
      " |-- userId: string (nullable = true)\n",
      " |-- start_time: timestamp (nullable = true)\n",
      "\n"
     ]
    }
   ],
   "source": [
    "new_df.printSchema()"
   ],
   "metadata": {
    "collapsed": false,
    "pycharm": {
     "name": "#%%\n"
    }
   }
  },
  {
   "cell_type": "code",
   "execution_count": 56,
   "outputs": [],
   "source": [
    "import pyspark.sql.functions as F"
   ],
   "metadata": {
    "collapsed": false,
    "pycharm": {
     "name": "#%%\n"
    }
   }
  },
  {
   "cell_type": "code",
   "execution_count": 57,
   "outputs": [],
   "source": [
    "new_df = new_df.withColumn(\"hour\", F.hour(new_df.start_time))"
   ],
   "metadata": {
    "collapsed": false,
    "pycharm": {
     "name": "#%%\n"
    }
   }
  },
  {
   "cell_type": "code",
   "execution_count": 58,
   "outputs": [
    {
     "name": "stdout",
     "output_type": "stream",
     "text": [
      "root\n",
      " |-- artist: string (nullable = true)\n",
      " |-- auth: string (nullable = true)\n",
      " |-- firstName: string (nullable = true)\n",
      " |-- gender: string (nullable = true)\n",
      " |-- itemInSession: long (nullable = true)\n",
      " |-- lastName: string (nullable = true)\n",
      " |-- length: double (nullable = true)\n",
      " |-- level: string (nullable = true)\n",
      " |-- location: string (nullable = true)\n",
      " |-- method: string (nullable = true)\n",
      " |-- page: string (nullable = true)\n",
      " |-- registration: double (nullable = true)\n",
      " |-- sessionId: long (nullable = true)\n",
      " |-- song: string (nullable = true)\n",
      " |-- status: long (nullable = true)\n",
      " |-- ts: long (nullable = true)\n",
      " |-- userAgent: string (nullable = true)\n",
      " |-- userId: string (nullable = true)\n",
      " |-- start_time: timestamp (nullable = true)\n",
      " |-- hour: integer (nullable = true)\n",
      "\n"
     ]
    }
   ],
   "source": [
    "new_df.printSchema()"
   ],
   "metadata": {
    "collapsed": false,
    "pycharm": {
     "name": "#%%\n"
    }
   }
  },
  {
   "cell_type": "code",
   "execution_count": 60,
   "outputs": [
    {
     "name": "stderr",
     "output_type": "stream",
     "text": [
      "                                                                                \r"
     ]
    },
    {
     "data": {
      "text/plain": "               artist       auth firstName gender  itemInSession lastName  \\\n0            Harmonia  Logged In      Ryan      M              0    Smith   \n1         The Prodigy  Logged In      Ryan      M              1    Smith   \n2               Train  Logged In      Ryan      M              2    Smith   \n3                None  Logged In     Wyatt      M              0    Scott   \n4                None  Logged In    Austin      M              0  Rosales   \n...               ...        ...       ...    ...            ...      ...   \n8051  Black Eyed Peas  Logged In    Sylvie      F              0     Cruz   \n8052             None  Logged In      Ryan      M              0    Smith   \n8053     Fall Out Boy  Logged In      Ryan      M              1    Smith   \n8054           M.I.A.  Logged In      Ryan      M              2    Smith   \n8055         Survivor  Logged In    Jayden      M              0      Fox   \n\n         length level                                      location method  \\\n0     655.77751  free            San Jose-Sunnyvale-Santa Clara, CA    PUT   \n1     260.07465  free            San Jose-Sunnyvale-Santa Clara, CA    PUT   \n2     205.45261  free            San Jose-Sunnyvale-Santa Clara, CA    PUT   \n3           NaN  free                     Eureka-Arcata-Fortuna, CA    GET   \n4           NaN  free         New York-Newark-Jersey City, NY-NJ-PA    GET   \n...         ...   ...                                           ...    ...   \n8051  214.93506  free  Washington-Arlington-Alexandria, DC-VA-MD-WV    PUT   \n8052        NaN  free            San Jose-Sunnyvale-Santa Clara, CA    GET   \n8053  200.72444  free            San Jose-Sunnyvale-Santa Clara, CA    PUT   \n8054  233.71710  free            San Jose-Sunnyvale-Santa Clara, CA    PUT   \n8055  245.36771  free                      New Orleans-Metairie, LA    PUT   \n\n          page  registration  sessionId  \\\n0     NextSong  1.541017e+12        583   \n1     NextSong  1.541017e+12        583   \n2     NextSong  1.541017e+12        583   \n3         Home  1.540872e+12        563   \n4         Home  1.541060e+12        521   \n...        ...           ...        ...   \n8051  NextSong  1.540266e+12          9   \n8052      Home  1.541017e+12        169   \n8053  NextSong  1.541017e+12        169   \n8054  NextSong  1.541017e+12        169   \n8055  NextSong  1.541034e+12        100   \n\n                                                  song  status             ts  \\\n0                                        Sehr kosmisch     200  1542241826796   \n1                                      The Big Gundown     200  1542242481796   \n2                                             Marry Me     200  1542242741796   \n3                                                 None     200  1542247071796   \n4                                                 None     200  1542252577796   \n...                                                ...     ...            ...   \n8051                                           Pump It     200  1541108520796   \n8052                                              None     200  1541109015796   \n8053                    Nobody Puts Baby In The Corner     200  1541109125796   \n8054  Mango Pickle Down River (With The Wilcannia Mob)     200  1541109325796   \n8055                                  Eye Of The Tiger     200  1541110994796   \n\n                                              userAgent userId  \\\n0     \"Mozilla/5.0 (X11; Linux x86_64) AppleWebKit/5...     26   \n1     \"Mozilla/5.0 (X11; Linux x86_64) AppleWebKit/5...     26   \n2     \"Mozilla/5.0 (X11; Linux x86_64) AppleWebKit/5...     26   \n3     Mozilla/5.0 (Windows NT 6.1; WOW64; Trident/7....      9   \n4     Mozilla/5.0 (Windows NT 6.1; rv:31.0) Gecko/20...     12   \n...                                                 ...    ...   \n8051  \"Mozilla/5.0 (Macintosh; Intel Mac OS X 10_9_4...     10   \n8052  \"Mozilla/5.0 (X11; Linux x86_64) AppleWebKit/5...     26   \n8053  \"Mozilla/5.0 (X11; Linux x86_64) AppleWebKit/5...     26   \n8054  \"Mozilla/5.0 (X11; Linux x86_64) AppleWebKit/5...     26   \n8055  \"Mozilla/5.0 (Windows NT 6.3; WOW64) AppleWebK...    101   \n\n                  start_time  hour  \n0    2018-11-15 01:30:26.796     1  \n1    2018-11-15 01:41:21.796     1  \n2    2018-11-15 01:45:41.796     1  \n3    2018-11-15 02:57:51.796     2  \n4    2018-11-15 04:29:37.796     4  \n...                      ...   ...  \n8051 2018-11-01 22:42:00.796    22  \n8052 2018-11-01 22:50:15.796    22  \n8053 2018-11-01 22:52:05.796    22  \n8054 2018-11-01 22:55:25.796    22  \n8055 2018-11-01 23:23:14.796    23  \n\n[8056 rows x 20 columns]",
      "text/html": "<div>\n<style scoped>\n    .dataframe tbody tr th:only-of-type {\n        vertical-align: middle;\n    }\n\n    .dataframe tbody tr th {\n        vertical-align: top;\n    }\n\n    .dataframe thead th {\n        text-align: right;\n    }\n</style>\n<table border=\"1\" class=\"dataframe\">\n  <thead>\n    <tr style=\"text-align: right;\">\n      <th></th>\n      <th>artist</th>\n      <th>auth</th>\n      <th>firstName</th>\n      <th>gender</th>\n      <th>itemInSession</th>\n      <th>lastName</th>\n      <th>length</th>\n      <th>level</th>\n      <th>location</th>\n      <th>method</th>\n      <th>page</th>\n      <th>registration</th>\n      <th>sessionId</th>\n      <th>song</th>\n      <th>status</th>\n      <th>ts</th>\n      <th>userAgent</th>\n      <th>userId</th>\n      <th>start_time</th>\n      <th>hour</th>\n    </tr>\n  </thead>\n  <tbody>\n    <tr>\n      <th>0</th>\n      <td>Harmonia</td>\n      <td>Logged In</td>\n      <td>Ryan</td>\n      <td>M</td>\n      <td>0</td>\n      <td>Smith</td>\n      <td>655.77751</td>\n      <td>free</td>\n      <td>San Jose-Sunnyvale-Santa Clara, CA</td>\n      <td>PUT</td>\n      <td>NextSong</td>\n      <td>1.541017e+12</td>\n      <td>583</td>\n      <td>Sehr kosmisch</td>\n      <td>200</td>\n      <td>1542241826796</td>\n      <td>\"Mozilla/5.0 (X11; Linux x86_64) AppleWebKit/5...</td>\n      <td>26</td>\n      <td>2018-11-15 01:30:26.796</td>\n      <td>1</td>\n    </tr>\n    <tr>\n      <th>1</th>\n      <td>The Prodigy</td>\n      <td>Logged In</td>\n      <td>Ryan</td>\n      <td>M</td>\n      <td>1</td>\n      <td>Smith</td>\n      <td>260.07465</td>\n      <td>free</td>\n      <td>San Jose-Sunnyvale-Santa Clara, CA</td>\n      <td>PUT</td>\n      <td>NextSong</td>\n      <td>1.541017e+12</td>\n      <td>583</td>\n      <td>The Big Gundown</td>\n      <td>200</td>\n      <td>1542242481796</td>\n      <td>\"Mozilla/5.0 (X11; Linux x86_64) AppleWebKit/5...</td>\n      <td>26</td>\n      <td>2018-11-15 01:41:21.796</td>\n      <td>1</td>\n    </tr>\n    <tr>\n      <th>2</th>\n      <td>Train</td>\n      <td>Logged In</td>\n      <td>Ryan</td>\n      <td>M</td>\n      <td>2</td>\n      <td>Smith</td>\n      <td>205.45261</td>\n      <td>free</td>\n      <td>San Jose-Sunnyvale-Santa Clara, CA</td>\n      <td>PUT</td>\n      <td>NextSong</td>\n      <td>1.541017e+12</td>\n      <td>583</td>\n      <td>Marry Me</td>\n      <td>200</td>\n      <td>1542242741796</td>\n      <td>\"Mozilla/5.0 (X11; Linux x86_64) AppleWebKit/5...</td>\n      <td>26</td>\n      <td>2018-11-15 01:45:41.796</td>\n      <td>1</td>\n    </tr>\n    <tr>\n      <th>3</th>\n      <td>None</td>\n      <td>Logged In</td>\n      <td>Wyatt</td>\n      <td>M</td>\n      <td>0</td>\n      <td>Scott</td>\n      <td>NaN</td>\n      <td>free</td>\n      <td>Eureka-Arcata-Fortuna, CA</td>\n      <td>GET</td>\n      <td>Home</td>\n      <td>1.540872e+12</td>\n      <td>563</td>\n      <td>None</td>\n      <td>200</td>\n      <td>1542247071796</td>\n      <td>Mozilla/5.0 (Windows NT 6.1; WOW64; Trident/7....</td>\n      <td>9</td>\n      <td>2018-11-15 02:57:51.796</td>\n      <td>2</td>\n    </tr>\n    <tr>\n      <th>4</th>\n      <td>None</td>\n      <td>Logged In</td>\n      <td>Austin</td>\n      <td>M</td>\n      <td>0</td>\n      <td>Rosales</td>\n      <td>NaN</td>\n      <td>free</td>\n      <td>New York-Newark-Jersey City, NY-NJ-PA</td>\n      <td>GET</td>\n      <td>Home</td>\n      <td>1.541060e+12</td>\n      <td>521</td>\n      <td>None</td>\n      <td>200</td>\n      <td>1542252577796</td>\n      <td>Mozilla/5.0 (Windows NT 6.1; rv:31.0) Gecko/20...</td>\n      <td>12</td>\n      <td>2018-11-15 04:29:37.796</td>\n      <td>4</td>\n    </tr>\n    <tr>\n      <th>...</th>\n      <td>...</td>\n      <td>...</td>\n      <td>...</td>\n      <td>...</td>\n      <td>...</td>\n      <td>...</td>\n      <td>...</td>\n      <td>...</td>\n      <td>...</td>\n      <td>...</td>\n      <td>...</td>\n      <td>...</td>\n      <td>...</td>\n      <td>...</td>\n      <td>...</td>\n      <td>...</td>\n      <td>...</td>\n      <td>...</td>\n      <td>...</td>\n      <td>...</td>\n    </tr>\n    <tr>\n      <th>8051</th>\n      <td>Black Eyed Peas</td>\n      <td>Logged In</td>\n      <td>Sylvie</td>\n      <td>F</td>\n      <td>0</td>\n      <td>Cruz</td>\n      <td>214.93506</td>\n      <td>free</td>\n      <td>Washington-Arlington-Alexandria, DC-VA-MD-WV</td>\n      <td>PUT</td>\n      <td>NextSong</td>\n      <td>1.540266e+12</td>\n      <td>9</td>\n      <td>Pump It</td>\n      <td>200</td>\n      <td>1541108520796</td>\n      <td>\"Mozilla/5.0 (Macintosh; Intel Mac OS X 10_9_4...</td>\n      <td>10</td>\n      <td>2018-11-01 22:42:00.796</td>\n      <td>22</td>\n    </tr>\n    <tr>\n      <th>8052</th>\n      <td>None</td>\n      <td>Logged In</td>\n      <td>Ryan</td>\n      <td>M</td>\n      <td>0</td>\n      <td>Smith</td>\n      <td>NaN</td>\n      <td>free</td>\n      <td>San Jose-Sunnyvale-Santa Clara, CA</td>\n      <td>GET</td>\n      <td>Home</td>\n      <td>1.541017e+12</td>\n      <td>169</td>\n      <td>None</td>\n      <td>200</td>\n      <td>1541109015796</td>\n      <td>\"Mozilla/5.0 (X11; Linux x86_64) AppleWebKit/5...</td>\n      <td>26</td>\n      <td>2018-11-01 22:50:15.796</td>\n      <td>22</td>\n    </tr>\n    <tr>\n      <th>8053</th>\n      <td>Fall Out Boy</td>\n      <td>Logged In</td>\n      <td>Ryan</td>\n      <td>M</td>\n      <td>1</td>\n      <td>Smith</td>\n      <td>200.72444</td>\n      <td>free</td>\n      <td>San Jose-Sunnyvale-Santa Clara, CA</td>\n      <td>PUT</td>\n      <td>NextSong</td>\n      <td>1.541017e+12</td>\n      <td>169</td>\n      <td>Nobody Puts Baby In The Corner</td>\n      <td>200</td>\n      <td>1541109125796</td>\n      <td>\"Mozilla/5.0 (X11; Linux x86_64) AppleWebKit/5...</td>\n      <td>26</td>\n      <td>2018-11-01 22:52:05.796</td>\n      <td>22</td>\n    </tr>\n    <tr>\n      <th>8054</th>\n      <td>M.I.A.</td>\n      <td>Logged In</td>\n      <td>Ryan</td>\n      <td>M</td>\n      <td>2</td>\n      <td>Smith</td>\n      <td>233.71710</td>\n      <td>free</td>\n      <td>San Jose-Sunnyvale-Santa Clara, CA</td>\n      <td>PUT</td>\n      <td>NextSong</td>\n      <td>1.541017e+12</td>\n      <td>169</td>\n      <td>Mango Pickle Down River (With The Wilcannia Mob)</td>\n      <td>200</td>\n      <td>1541109325796</td>\n      <td>\"Mozilla/5.0 (X11; Linux x86_64) AppleWebKit/5...</td>\n      <td>26</td>\n      <td>2018-11-01 22:55:25.796</td>\n      <td>22</td>\n    </tr>\n    <tr>\n      <th>8055</th>\n      <td>Survivor</td>\n      <td>Logged In</td>\n      <td>Jayden</td>\n      <td>M</td>\n      <td>0</td>\n      <td>Fox</td>\n      <td>245.36771</td>\n      <td>free</td>\n      <td>New Orleans-Metairie, LA</td>\n      <td>PUT</td>\n      <td>NextSong</td>\n      <td>1.541034e+12</td>\n      <td>100</td>\n      <td>Eye Of The Tiger</td>\n      <td>200</td>\n      <td>1541110994796</td>\n      <td>\"Mozilla/5.0 (Windows NT 6.3; WOW64) AppleWebK...</td>\n      <td>101</td>\n      <td>2018-11-01 23:23:14.796</td>\n      <td>23</td>\n    </tr>\n  </tbody>\n</table>\n<p>8056 rows × 20 columns</p>\n</div>"
     },
     "execution_count": 60,
     "metadata": {},
     "output_type": "execute_result"
    }
   ],
   "source": [
    "new_df.toPandas()"
   ],
   "metadata": {
    "collapsed": false,
    "pycharm": {
     "name": "#%%\n"
    }
   }
  },
  {
   "cell_type": "code",
   "execution_count": 66,
   "outputs": [],
   "source": [
    "new_df = new_df.withColumn(\"hour\", F.hour(new_df.start_time))\n",
    "new_df = new_df.withColumn(\"day\", F.dayofmonth(new_df.start_time))\n",
    "new_df = new_df.withColumn(\"week\", F.weekofyear(new_df.start_time))\n",
    "new_df = new_df.withColumn(\"month\", F.month(new_df.start_time))\n",
    "new_df = new_df.withColumn(\"year\", F.year(new_df.start_time))\n",
    "new_df = new_df.withColumn(\"weekday\", F.date_format(new_df.start_time, \"E\"))"
   ],
   "metadata": {
    "collapsed": false,
    "pycharm": {
     "name": "#%%\n"
    }
   }
  },
  {
   "cell_type": "code",
   "execution_count": 67,
   "outputs": [
    {
     "name": "stderr",
     "output_type": "stream",
     "text": [
      "                                                                                \r"
     ]
    },
    {
     "data": {
      "text/plain": "               artist       auth firstName gender  itemInSession lastName  \\\n0            Harmonia  Logged In      Ryan      M              0    Smith   \n1         The Prodigy  Logged In      Ryan      M              1    Smith   \n2               Train  Logged In      Ryan      M              2    Smith   \n3                None  Logged In     Wyatt      M              0    Scott   \n4                None  Logged In    Austin      M              0  Rosales   \n...               ...        ...       ...    ...            ...      ...   \n8051  Black Eyed Peas  Logged In    Sylvie      F              0     Cruz   \n8052             None  Logged In      Ryan      M              0    Smith   \n8053     Fall Out Boy  Logged In      Ryan      M              1    Smith   \n8054           M.I.A.  Logged In      Ryan      M              2    Smith   \n8055         Survivor  Logged In    Jayden      M              0      Fox   \n\n         length level                                      location method  \\\n0     655.77751  free            San Jose-Sunnyvale-Santa Clara, CA    PUT   \n1     260.07465  free            San Jose-Sunnyvale-Santa Clara, CA    PUT   \n2     205.45261  free            San Jose-Sunnyvale-Santa Clara, CA    PUT   \n3           NaN  free                     Eureka-Arcata-Fortuna, CA    GET   \n4           NaN  free         New York-Newark-Jersey City, NY-NJ-PA    GET   \n...         ...   ...                                           ...    ...   \n8051  214.93506  free  Washington-Arlington-Alexandria, DC-VA-MD-WV    PUT   \n8052        NaN  free            San Jose-Sunnyvale-Santa Clara, CA    GET   \n8053  200.72444  free            San Jose-Sunnyvale-Santa Clara, CA    PUT   \n8054  233.71710  free            San Jose-Sunnyvale-Santa Clara, CA    PUT   \n8055  245.36771  free                      New Orleans-Metairie, LA    PUT   \n\n      ...             ts                                          userAgent  \\\n0     ...  1542241826796  \"Mozilla/5.0 (X11; Linux x86_64) AppleWebKit/5...   \n1     ...  1542242481796  \"Mozilla/5.0 (X11; Linux x86_64) AppleWebKit/5...   \n2     ...  1542242741796  \"Mozilla/5.0 (X11; Linux x86_64) AppleWebKit/5...   \n3     ...  1542247071796  Mozilla/5.0 (Windows NT 6.1; WOW64; Trident/7....   \n4     ...  1542252577796  Mozilla/5.0 (Windows NT 6.1; rv:31.0) Gecko/20...   \n...   ...            ...                                                ...   \n8051  ...  1541108520796  \"Mozilla/5.0 (Macintosh; Intel Mac OS X 10_9_4...   \n8052  ...  1541109015796  \"Mozilla/5.0 (X11; Linux x86_64) AppleWebKit/5...   \n8053  ...  1541109125796  \"Mozilla/5.0 (X11; Linux x86_64) AppleWebKit/5...   \n8054  ...  1541109325796  \"Mozilla/5.0 (X11; Linux x86_64) AppleWebKit/5...   \n8055  ...  1541110994796  \"Mozilla/5.0 (Windows NT 6.3; WOW64) AppleWebK...   \n\n      userId              start_time  hour  day week month  year  weekday  \n0         26 2018-11-15 01:30:26.796     1   15   46    11  2018      Thu  \n1         26 2018-11-15 01:41:21.796     1   15   46    11  2018      Thu  \n2         26 2018-11-15 01:45:41.796     1   15   46    11  2018      Thu  \n3          9 2018-11-15 02:57:51.796     2   15   46    11  2018      Thu  \n4         12 2018-11-15 04:29:37.796     4   15   46    11  2018      Thu  \n...      ...                     ...   ...  ...  ...   ...   ...      ...  \n8051      10 2018-11-01 22:42:00.796    22    1   44    11  2018      Thu  \n8052      26 2018-11-01 22:50:15.796    22    1   44    11  2018      Thu  \n8053      26 2018-11-01 22:52:05.796    22    1   44    11  2018      Thu  \n8054      26 2018-11-01 22:55:25.796    22    1   44    11  2018      Thu  \n8055     101 2018-11-01 23:23:14.796    23    1   44    11  2018      Thu  \n\n[8056 rows x 25 columns]",
      "text/html": "<div>\n<style scoped>\n    .dataframe tbody tr th:only-of-type {\n        vertical-align: middle;\n    }\n\n    .dataframe tbody tr th {\n        vertical-align: top;\n    }\n\n    .dataframe thead th {\n        text-align: right;\n    }\n</style>\n<table border=\"1\" class=\"dataframe\">\n  <thead>\n    <tr style=\"text-align: right;\">\n      <th></th>\n      <th>artist</th>\n      <th>auth</th>\n      <th>firstName</th>\n      <th>gender</th>\n      <th>itemInSession</th>\n      <th>lastName</th>\n      <th>length</th>\n      <th>level</th>\n      <th>location</th>\n      <th>method</th>\n      <th>...</th>\n      <th>ts</th>\n      <th>userAgent</th>\n      <th>userId</th>\n      <th>start_time</th>\n      <th>hour</th>\n      <th>day</th>\n      <th>week</th>\n      <th>month</th>\n      <th>year</th>\n      <th>weekday</th>\n    </tr>\n  </thead>\n  <tbody>\n    <tr>\n      <th>0</th>\n      <td>Harmonia</td>\n      <td>Logged In</td>\n      <td>Ryan</td>\n      <td>M</td>\n      <td>0</td>\n      <td>Smith</td>\n      <td>655.77751</td>\n      <td>free</td>\n      <td>San Jose-Sunnyvale-Santa Clara, CA</td>\n      <td>PUT</td>\n      <td>...</td>\n      <td>1542241826796</td>\n      <td>\"Mozilla/5.0 (X11; Linux x86_64) AppleWebKit/5...</td>\n      <td>26</td>\n      <td>2018-11-15 01:30:26.796</td>\n      <td>1</td>\n      <td>15</td>\n      <td>46</td>\n      <td>11</td>\n      <td>2018</td>\n      <td>Thu</td>\n    </tr>\n    <tr>\n      <th>1</th>\n      <td>The Prodigy</td>\n      <td>Logged In</td>\n      <td>Ryan</td>\n      <td>M</td>\n      <td>1</td>\n      <td>Smith</td>\n      <td>260.07465</td>\n      <td>free</td>\n      <td>San Jose-Sunnyvale-Santa Clara, CA</td>\n      <td>PUT</td>\n      <td>...</td>\n      <td>1542242481796</td>\n      <td>\"Mozilla/5.0 (X11; Linux x86_64) AppleWebKit/5...</td>\n      <td>26</td>\n      <td>2018-11-15 01:41:21.796</td>\n      <td>1</td>\n      <td>15</td>\n      <td>46</td>\n      <td>11</td>\n      <td>2018</td>\n      <td>Thu</td>\n    </tr>\n    <tr>\n      <th>2</th>\n      <td>Train</td>\n      <td>Logged In</td>\n      <td>Ryan</td>\n      <td>M</td>\n      <td>2</td>\n      <td>Smith</td>\n      <td>205.45261</td>\n      <td>free</td>\n      <td>San Jose-Sunnyvale-Santa Clara, CA</td>\n      <td>PUT</td>\n      <td>...</td>\n      <td>1542242741796</td>\n      <td>\"Mozilla/5.0 (X11; Linux x86_64) AppleWebKit/5...</td>\n      <td>26</td>\n      <td>2018-11-15 01:45:41.796</td>\n      <td>1</td>\n      <td>15</td>\n      <td>46</td>\n      <td>11</td>\n      <td>2018</td>\n      <td>Thu</td>\n    </tr>\n    <tr>\n      <th>3</th>\n      <td>None</td>\n      <td>Logged In</td>\n      <td>Wyatt</td>\n      <td>M</td>\n      <td>0</td>\n      <td>Scott</td>\n      <td>NaN</td>\n      <td>free</td>\n      <td>Eureka-Arcata-Fortuna, CA</td>\n      <td>GET</td>\n      <td>...</td>\n      <td>1542247071796</td>\n      <td>Mozilla/5.0 (Windows NT 6.1; WOW64; Trident/7....</td>\n      <td>9</td>\n      <td>2018-11-15 02:57:51.796</td>\n      <td>2</td>\n      <td>15</td>\n      <td>46</td>\n      <td>11</td>\n      <td>2018</td>\n      <td>Thu</td>\n    </tr>\n    <tr>\n      <th>4</th>\n      <td>None</td>\n      <td>Logged In</td>\n      <td>Austin</td>\n      <td>M</td>\n      <td>0</td>\n      <td>Rosales</td>\n      <td>NaN</td>\n      <td>free</td>\n      <td>New York-Newark-Jersey City, NY-NJ-PA</td>\n      <td>GET</td>\n      <td>...</td>\n      <td>1542252577796</td>\n      <td>Mozilla/5.0 (Windows NT 6.1; rv:31.0) Gecko/20...</td>\n      <td>12</td>\n      <td>2018-11-15 04:29:37.796</td>\n      <td>4</td>\n      <td>15</td>\n      <td>46</td>\n      <td>11</td>\n      <td>2018</td>\n      <td>Thu</td>\n    </tr>\n    <tr>\n      <th>...</th>\n      <td>...</td>\n      <td>...</td>\n      <td>...</td>\n      <td>...</td>\n      <td>...</td>\n      <td>...</td>\n      <td>...</td>\n      <td>...</td>\n      <td>...</td>\n      <td>...</td>\n      <td>...</td>\n      <td>...</td>\n      <td>...</td>\n      <td>...</td>\n      <td>...</td>\n      <td>...</td>\n      <td>...</td>\n      <td>...</td>\n      <td>...</td>\n      <td>...</td>\n      <td>...</td>\n    </tr>\n    <tr>\n      <th>8051</th>\n      <td>Black Eyed Peas</td>\n      <td>Logged In</td>\n      <td>Sylvie</td>\n      <td>F</td>\n      <td>0</td>\n      <td>Cruz</td>\n      <td>214.93506</td>\n      <td>free</td>\n      <td>Washington-Arlington-Alexandria, DC-VA-MD-WV</td>\n      <td>PUT</td>\n      <td>...</td>\n      <td>1541108520796</td>\n      <td>\"Mozilla/5.0 (Macintosh; Intel Mac OS X 10_9_4...</td>\n      <td>10</td>\n      <td>2018-11-01 22:42:00.796</td>\n      <td>22</td>\n      <td>1</td>\n      <td>44</td>\n      <td>11</td>\n      <td>2018</td>\n      <td>Thu</td>\n    </tr>\n    <tr>\n      <th>8052</th>\n      <td>None</td>\n      <td>Logged In</td>\n      <td>Ryan</td>\n      <td>M</td>\n      <td>0</td>\n      <td>Smith</td>\n      <td>NaN</td>\n      <td>free</td>\n      <td>San Jose-Sunnyvale-Santa Clara, CA</td>\n      <td>GET</td>\n      <td>...</td>\n      <td>1541109015796</td>\n      <td>\"Mozilla/5.0 (X11; Linux x86_64) AppleWebKit/5...</td>\n      <td>26</td>\n      <td>2018-11-01 22:50:15.796</td>\n      <td>22</td>\n      <td>1</td>\n      <td>44</td>\n      <td>11</td>\n      <td>2018</td>\n      <td>Thu</td>\n    </tr>\n    <tr>\n      <th>8053</th>\n      <td>Fall Out Boy</td>\n      <td>Logged In</td>\n      <td>Ryan</td>\n      <td>M</td>\n      <td>1</td>\n      <td>Smith</td>\n      <td>200.72444</td>\n      <td>free</td>\n      <td>San Jose-Sunnyvale-Santa Clara, CA</td>\n      <td>PUT</td>\n      <td>...</td>\n      <td>1541109125796</td>\n      <td>\"Mozilla/5.0 (X11; Linux x86_64) AppleWebKit/5...</td>\n      <td>26</td>\n      <td>2018-11-01 22:52:05.796</td>\n      <td>22</td>\n      <td>1</td>\n      <td>44</td>\n      <td>11</td>\n      <td>2018</td>\n      <td>Thu</td>\n    </tr>\n    <tr>\n      <th>8054</th>\n      <td>M.I.A.</td>\n      <td>Logged In</td>\n      <td>Ryan</td>\n      <td>M</td>\n      <td>2</td>\n      <td>Smith</td>\n      <td>233.71710</td>\n      <td>free</td>\n      <td>San Jose-Sunnyvale-Santa Clara, CA</td>\n      <td>PUT</td>\n      <td>...</td>\n      <td>1541109325796</td>\n      <td>\"Mozilla/5.0 (X11; Linux x86_64) AppleWebKit/5...</td>\n      <td>26</td>\n      <td>2018-11-01 22:55:25.796</td>\n      <td>22</td>\n      <td>1</td>\n      <td>44</td>\n      <td>11</td>\n      <td>2018</td>\n      <td>Thu</td>\n    </tr>\n    <tr>\n      <th>8055</th>\n      <td>Survivor</td>\n      <td>Logged In</td>\n      <td>Jayden</td>\n      <td>M</td>\n      <td>0</td>\n      <td>Fox</td>\n      <td>245.36771</td>\n      <td>free</td>\n      <td>New Orleans-Metairie, LA</td>\n      <td>PUT</td>\n      <td>...</td>\n      <td>1541110994796</td>\n      <td>\"Mozilla/5.0 (Windows NT 6.3; WOW64) AppleWebK...</td>\n      <td>101</td>\n      <td>2018-11-01 23:23:14.796</td>\n      <td>23</td>\n      <td>1</td>\n      <td>44</td>\n      <td>11</td>\n      <td>2018</td>\n      <td>Thu</td>\n    </tr>\n  </tbody>\n</table>\n<p>8056 rows × 25 columns</p>\n</div>"
     },
     "execution_count": 67,
     "metadata": {},
     "output_type": "execute_result"
    }
   ],
   "source": [
    "new_df.toPandas()"
   ],
   "metadata": {
    "collapsed": false,
    "pycharm": {
     "name": "#%%\n"
    }
   }
  },
  {
   "cell_type": "code",
   "execution_count": 74,
   "outputs": [
    {
     "ename": "AttributeError",
     "evalue": "'DataFrame' object has no attribute 'artist_name'",
     "output_type": "error",
     "traceback": [
      "\u001B[0;31m---------------------------------------------------------------------------\u001B[0m",
      "\u001B[0;31mAttributeError\u001B[0m                            Traceback (most recent call last)",
      "\u001B[0;32m/var/folders/99/z53xlbhn0c9fm67qr2gqm97w0000gq/T/ipykernel_58829/2284815846.py\u001B[0m in \u001B[0;36m<module>\u001B[0;34m\u001B[0m\n\u001B[1;32m      1\u001B[0m \u001B[0;32mfrom\u001B[0m \u001B[0mpyspark\u001B[0m\u001B[0;34m.\u001B[0m\u001B[0msql\u001B[0m\u001B[0;34m.\u001B[0m\u001B[0mfunctions\u001B[0m \u001B[0;32mimport\u001B[0m \u001B[0mmonotonically_increasing_id\u001B[0m\u001B[0;34m\u001B[0m\u001B[0;34m\u001B[0m\u001B[0m\n\u001B[1;32m      2\u001B[0m \u001B[0;34m\u001B[0m\u001B[0m\n\u001B[0;32m----> 3\u001B[0;31m \u001B[0msongplays_table\u001B[0m \u001B[0;34m=\u001B[0m \u001B[0mnew_df\u001B[0m\u001B[0;34m.\u001B[0m\u001B[0mjoin\u001B[0m\u001B[0;34m(\u001B[0m\u001B[0msongs_table\u001B[0m\u001B[0;34m,\u001B[0m \u001B[0;34m(\u001B[0m\u001B[0mnew_df\u001B[0m\u001B[0;34m.\u001B[0m\u001B[0msong\u001B[0m \u001B[0;34m==\u001B[0m \u001B[0msongs_table\u001B[0m\u001B[0;34m.\u001B[0m\u001B[0mtitle\u001B[0m\u001B[0;34m)\u001B[0m \u001B[0;34m&\u001B[0m \u001B[0;34m(\u001B[0m\u001B[0mnew_df\u001B[0m\u001B[0;34m.\u001B[0m\u001B[0martist\u001B[0m \u001B[0;34m==\u001B[0m \u001B[0msongs_table\u001B[0m\u001B[0;34m.\u001B[0m\u001B[0martist_name\u001B[0m\u001B[0;34m)\u001B[0m \u001B[0;34m&\u001B[0m \u001B[0;34m(\u001B[0m\u001B[0mnew_df\u001B[0m\u001B[0;34m.\u001B[0m\u001B[0mlength\u001B[0m \u001B[0;34m==\u001B[0m \u001B[0msongs_table\u001B[0m\u001B[0;34m.\u001B[0m\u001B[0mduration\u001B[0m\u001B[0;34m)\u001B[0m\u001B[0;34m,\u001B[0m \u001B[0;34m'left_outer'\u001B[0m\u001B[0;34m)\u001B[0m\u001B[0;31m\\\u001B[0m\u001B[0;34m\u001B[0m\u001B[0;34m\u001B[0m\u001B[0m\n\u001B[0m\u001B[1;32m      4\u001B[0m     \u001B[0;34m.\u001B[0m\u001B[0mselect\u001B[0m\u001B[0;34m(\u001B[0m\u001B[0mnew_df\u001B[0m\u001B[0;34m.\u001B[0m\u001B[0mstart_time\u001B[0m\u001B[0;34m,\u001B[0m \u001B[0mnew_df\u001B[0m\u001B[0;34m.\u001B[0m\u001B[0muserId\u001B[0m\u001B[0;34m,\u001B[0m \u001B[0mnew_df\u001B[0m\u001B[0;34m.\u001B[0m\u001B[0mlevel\u001B[0m\u001B[0;34m,\u001B[0m \u001B[0msongs_table\u001B[0m\u001B[0;34m.\u001B[0m\u001B[0msong_id\u001B[0m\u001B[0;34m,\u001B[0m \u001B[0msongs_table\u001B[0m\u001B[0;34m.\u001B[0m\u001B[0martist_id\u001B[0m\u001B[0;34m,\u001B[0m \u001B[0mnew_df\u001B[0m\u001B[0;34m.\u001B[0m\u001B[0msessionId\u001B[0m\u001B[0;34m,\u001B[0m \u001B[0mnew_df\u001B[0m\u001B[0;34m.\u001B[0m\u001B[0mlocation\u001B[0m\u001B[0;34m,\u001B[0m \u001B[0mnew_df\u001B[0m\u001B[0;34m.\u001B[0m\u001B[0muserAgent\u001B[0m\u001B[0;34m,\u001B[0m \u001B[0mnew_df\u001B[0m\u001B[0;34m.\u001B[0m\u001B[0myear\u001B[0m\u001B[0;34m,\u001B[0m \u001B[0mnew_df\u001B[0m\u001B[0;34m.\u001B[0m\u001B[0mmonth\u001B[0m\u001B[0;34m)\u001B[0m\u001B[0;31m\\\u001B[0m\u001B[0;34m\u001B[0m\u001B[0;34m\u001B[0m\u001B[0m\n\u001B[1;32m      5\u001B[0m     \u001B[0;34m.\u001B[0m\u001B[0mwithColumn\u001B[0m\u001B[0;34m(\u001B[0m\u001B[0;34m\"songplay_id\"\u001B[0m\u001B[0;34m,\u001B[0m \u001B[0mmonotonically_increasing_id\u001B[0m\u001B[0;34m(\u001B[0m\u001B[0;34m)\u001B[0m\u001B[0;34m)\u001B[0m\u001B[0;34m\u001B[0m\u001B[0;34m\u001B[0m\u001B[0m\n",
      "\u001B[0;32m~/opt/anaconda3/envs/project_data_modeling_postgres/lib/python3.8/site-packages/pyspark/sql/dataframe.py\u001B[0m in \u001B[0;36m__getattr__\u001B[0;34m(self, name)\u001B[0m\n\u001B[1;32m   1641\u001B[0m         \"\"\"\n\u001B[1;32m   1642\u001B[0m         \u001B[0;32mif\u001B[0m \u001B[0mname\u001B[0m \u001B[0;32mnot\u001B[0m \u001B[0;32min\u001B[0m \u001B[0mself\u001B[0m\u001B[0;34m.\u001B[0m\u001B[0mcolumns\u001B[0m\u001B[0;34m:\u001B[0m\u001B[0;34m\u001B[0m\u001B[0;34m\u001B[0m\u001B[0m\n\u001B[0;32m-> 1643\u001B[0;31m             raise AttributeError(\n\u001B[0m\u001B[1;32m   1644\u001B[0m                 \"'%s' object has no attribute '%s'\" % (self.__class__.__name__, name))\n\u001B[1;32m   1645\u001B[0m         \u001B[0mjc\u001B[0m \u001B[0;34m=\u001B[0m \u001B[0mself\u001B[0m\u001B[0;34m.\u001B[0m\u001B[0m_jdf\u001B[0m\u001B[0;34m.\u001B[0m\u001B[0mapply\u001B[0m\u001B[0;34m(\u001B[0m\u001B[0mname\u001B[0m\u001B[0;34m)\u001B[0m\u001B[0;34m\u001B[0m\u001B[0;34m\u001B[0m\u001B[0m\n",
      "\u001B[0;31mAttributeError\u001B[0m: 'DataFrame' object has no attribute 'artist_name'"
     ]
    }
   ],
   "source": [
    "from pyspark.sql.functions import monotonically_increasing_id\n",
    "\n",
    "songplays_table = new_df.join(songs_table, (new_df.song == songs_table.title) & (new_df.artist == songs_table.artist_name) & (new_df.length == songs_table.duration), 'left_outer')\\\n",
    "    .select(new_df.start_time, new_df.userId, new_df.level, songs_table.song_id, songs_table.artist_id, new_df.sessionId, new_df.location, new_df.userAgent, new_df.year, new_df.month)\\\n",
    "    .withColumn(\"songplay_id\", monotonically_increasing_id())"
   ],
   "metadata": {
    "collapsed": false,
    "pycharm": {
     "name": "#%%\n"
    }
   }
  },
  {
   "cell_type": "code",
   "execution_count": 75,
   "outputs": [
    {
     "name": "stderr",
     "output_type": "stream",
     "text": [
      "[Stage 39:>                                                         (0 + 8) / 8]\r"
     ]
    },
    {
     "name": "stdout",
     "output_type": "stream",
     "text": [
      "+------------------+--------------------+------------------+----+---------+\n",
      "|           song_id|               title|         artist_id|year| duration|\n",
      "+------------------+--------------------+------------------+----+---------+\n",
      "|SOGOSOV12AF72A285E|   ¿Dónde va Chichi?|ARGUVEV1187B98BA17|1997|313.12934|\n",
      "|SOTTDKS12AB018D69B|It Wont Be Christmas|ARMBR4Y1187B9990EB|   0|241.47546|\n",
      "|SOBBUGU12A8C13E95D|Setting Fire to S...|ARMAC4T1187FB3FA4C|2004|207.77751|\n",
      "|SOIAZJW12AB01853F1|          Pink World|AR8ZCNI1187B9A069B|1984|269.81832|\n",
      "|SONYPOM12A8C13B2D7|I Think My Wife I...|ARDNS031187B9924F0|2005|186.48771|\n",
      "+------------------+--------------------+------------------+----+---------+\n",
      "only showing top 5 rows\n",
      "\n"
     ]
    },
    {
     "name": "stderr",
     "output_type": "stream",
     "text": [
      "                                                                                \r"
     ]
    }
   ],
   "source": [
    "songs_table.show(5)"
   ],
   "metadata": {
    "collapsed": false,
    "pycharm": {
     "name": "#%%\n"
    }
   }
  },
  {
   "cell_type": "code",
   "execution_count": 76,
   "outputs": [],
   "source": [
    "song_df = spark.read.json(\"data/song_data/*/*/*/*.json\")"
   ],
   "metadata": {
    "collapsed": false,
    "pycharm": {
     "name": "#%%\n"
    }
   }
  },
  {
   "cell_type": "code",
   "execution_count": 77,
   "outputs": [
    {
     "name": "stdout",
     "output_type": "stream",
     "text": [
      "root\n",
      " |-- artist_id: string (nullable = true)\n",
      " |-- artist_latitude: double (nullable = true)\n",
      " |-- artist_location: string (nullable = true)\n",
      " |-- artist_longitude: double (nullable = true)\n",
      " |-- artist_name: string (nullable = true)\n",
      " |-- duration: double (nullable = true)\n",
      " |-- num_songs: long (nullable = true)\n",
      " |-- song_id: string (nullable = true)\n",
      " |-- title: string (nullable = true)\n",
      " |-- year: long (nullable = true)\n",
      "\n"
     ]
    }
   ],
   "source": [
    "song_df.printSchema()"
   ],
   "metadata": {
    "collapsed": false,
    "pycharm": {
     "name": "#%%\n"
    }
   }
  },
  {
   "cell_type": "code",
   "execution_count": 89,
   "outputs": [],
   "source": [
    "songplays_table = new_df.join(song_df, (new_df.song == song_df.title) & (new_df.artist == song_df.artist_name) & (new_df.length == song_df.duration), 'left_outer')\\\n",
    "    .select(new_df.start_time, new_df.userId, new_df.level, song_df.song_id, song_df.title, song_df.artist_id, new_df.sessionId, new_df.location, new_df.userAgent, new_df.year, new_df.month, new_df.day)\\\n",
    "    .withColumn(\"songplay_id\", monotonically_increasing_id())"
   ],
   "metadata": {
    "collapsed": false,
    "pycharm": {
     "name": "#%%\n"
    }
   }
  },
  {
   "cell_type": "code",
   "execution_count": 90,
   "outputs": [
    {
     "name": "stderr",
     "output_type": "stream",
     "text": [
      "                                                                                \r"
     ]
    },
    {
     "data": {
      "text/plain": "               start_time userId level             song_id           title  \\\n0 2018-11-21 22:56:47.796     15  paid  SOZCTXZ12AB0182364  Setanta matins   \n\n            artist_id  sessionId                            location  \\\n0  AR5KOSW1187FB35FF4        818  Chicago-Naperville-Elgin, IL-IN-WI   \n\n                                           userAgent  year  month  day  \\\n0  \"Mozilla/5.0 (X11; Linux x86_64) AppleWebKit/5...  2018     11   21   \n\n   songplay_id  \n0         1016  ",
      "text/html": "<div>\n<style scoped>\n    .dataframe tbody tr th:only-of-type {\n        vertical-align: middle;\n    }\n\n    .dataframe tbody tr th {\n        vertical-align: top;\n    }\n\n    .dataframe thead th {\n        text-align: right;\n    }\n</style>\n<table border=\"1\" class=\"dataframe\">\n  <thead>\n    <tr style=\"text-align: right;\">\n      <th></th>\n      <th>start_time</th>\n      <th>userId</th>\n      <th>level</th>\n      <th>song_id</th>\n      <th>title</th>\n      <th>artist_id</th>\n      <th>sessionId</th>\n      <th>location</th>\n      <th>userAgent</th>\n      <th>year</th>\n      <th>month</th>\n      <th>day</th>\n      <th>songplay_id</th>\n    </tr>\n  </thead>\n  <tbody>\n    <tr>\n      <th>0</th>\n      <td>2018-11-21 22:56:47.796</td>\n      <td>15</td>\n      <td>paid</td>\n      <td>SOZCTXZ12AB0182364</td>\n      <td>Setanta matins</td>\n      <td>AR5KOSW1187FB35FF4</td>\n      <td>818</td>\n      <td>Chicago-Naperville-Elgin, IL-IN-WI</td>\n      <td>\"Mozilla/5.0 (X11; Linux x86_64) AppleWebKit/5...</td>\n      <td>2018</td>\n      <td>11</td>\n      <td>21</td>\n      <td>1016</td>\n    </tr>\n  </tbody>\n</table>\n</div>"
     },
     "execution_count": 90,
     "metadata": {},
     "output_type": "execute_result"
    }
   ],
   "source": [
    "songplays_table.filter(songplays_table.song_id.isNotNull()).toPandas()"
   ],
   "metadata": {
    "collapsed": false,
    "pycharm": {
     "name": "#%%\n"
    }
   }
  },
  {
   "cell_type": "code",
   "execution_count": 82,
   "outputs": [
    {
     "name": "stderr",
     "output_type": "stream",
     "text": [
      "                                                                                \r"
     ]
    },
    {
     "data": {
      "text/plain": "                  start_time userId level song_id artist_id  sessionId  \\\n0    2018-11-15 01:30:26.796     26  free    None      None        583   \n1    2018-11-15 01:41:21.796     26  free    None      None        583   \n2    2018-11-15 01:45:41.796     26  free    None      None        583   \n3    2018-11-15 02:57:51.796      9  free    None      None        563   \n4    2018-11-15 04:29:37.796     12  free    None      None        521   \n...                      ...    ...   ...     ...       ...        ...   \n8051 2018-11-01 22:42:00.796     10  free    None      None          9   \n8052 2018-11-01 22:50:15.796     26  free    None      None        169   \n8053 2018-11-01 22:52:05.796     26  free    None      None        169   \n8054 2018-11-01 22:55:25.796     26  free    None      None        169   \n8055 2018-11-01 23:23:14.796    101  free    None      None        100   \n\n                                          location  \\\n0               San Jose-Sunnyvale-Santa Clara, CA   \n1               San Jose-Sunnyvale-Santa Clara, CA   \n2               San Jose-Sunnyvale-Santa Clara, CA   \n3                        Eureka-Arcata-Fortuna, CA   \n4            New York-Newark-Jersey City, NY-NJ-PA   \n...                                            ...   \n8051  Washington-Arlington-Alexandria, DC-VA-MD-WV   \n8052            San Jose-Sunnyvale-Santa Clara, CA   \n8053            San Jose-Sunnyvale-Santa Clara, CA   \n8054            San Jose-Sunnyvale-Santa Clara, CA   \n8055                      New Orleans-Metairie, LA   \n\n                                              userAgent  year  month  \\\n0     \"Mozilla/5.0 (X11; Linux x86_64) AppleWebKit/5...  2018     11   \n1     \"Mozilla/5.0 (X11; Linux x86_64) AppleWebKit/5...  2018     11   \n2     \"Mozilla/5.0 (X11; Linux x86_64) AppleWebKit/5...  2018     11   \n3     Mozilla/5.0 (Windows NT 6.1; WOW64; Trident/7....  2018     11   \n4     Mozilla/5.0 (Windows NT 6.1; rv:31.0) Gecko/20...  2018     11   \n...                                                 ...   ...    ...   \n8051  \"Mozilla/5.0 (Macintosh; Intel Mac OS X 10_9_4...  2018     11   \n8052  \"Mozilla/5.0 (X11; Linux x86_64) AppleWebKit/5...  2018     11   \n8053  \"Mozilla/5.0 (X11; Linux x86_64) AppleWebKit/5...  2018     11   \n8054  \"Mozilla/5.0 (X11; Linux x86_64) AppleWebKit/5...  2018     11   \n8055  \"Mozilla/5.0 (Windows NT 6.3; WOW64) AppleWebK...  2018     11   \n\n      songplay_id  \n0               0  \n1               1  \n2               2  \n3               3  \n4               4  \n...           ...  \n8051  60129542213  \n8052  60129542214  \n8053  60129542215  \n8054  60129542216  \n8055  60129542217  \n\n[8056 rows x 11 columns]",
      "text/html": "<div>\n<style scoped>\n    .dataframe tbody tr th:only-of-type {\n        vertical-align: middle;\n    }\n\n    .dataframe tbody tr th {\n        vertical-align: top;\n    }\n\n    .dataframe thead th {\n        text-align: right;\n    }\n</style>\n<table border=\"1\" class=\"dataframe\">\n  <thead>\n    <tr style=\"text-align: right;\">\n      <th></th>\n      <th>start_time</th>\n      <th>userId</th>\n      <th>level</th>\n      <th>song_id</th>\n      <th>artist_id</th>\n      <th>sessionId</th>\n      <th>location</th>\n      <th>userAgent</th>\n      <th>year</th>\n      <th>month</th>\n      <th>songplay_id</th>\n    </tr>\n  </thead>\n  <tbody>\n    <tr>\n      <th>0</th>\n      <td>2018-11-15 01:30:26.796</td>\n      <td>26</td>\n      <td>free</td>\n      <td>None</td>\n      <td>None</td>\n      <td>583</td>\n      <td>San Jose-Sunnyvale-Santa Clara, CA</td>\n      <td>\"Mozilla/5.0 (X11; Linux x86_64) AppleWebKit/5...</td>\n      <td>2018</td>\n      <td>11</td>\n      <td>0</td>\n    </tr>\n    <tr>\n      <th>1</th>\n      <td>2018-11-15 01:41:21.796</td>\n      <td>26</td>\n      <td>free</td>\n      <td>None</td>\n      <td>None</td>\n      <td>583</td>\n      <td>San Jose-Sunnyvale-Santa Clara, CA</td>\n      <td>\"Mozilla/5.0 (X11; Linux x86_64) AppleWebKit/5...</td>\n      <td>2018</td>\n      <td>11</td>\n      <td>1</td>\n    </tr>\n    <tr>\n      <th>2</th>\n      <td>2018-11-15 01:45:41.796</td>\n      <td>26</td>\n      <td>free</td>\n      <td>None</td>\n      <td>None</td>\n      <td>583</td>\n      <td>San Jose-Sunnyvale-Santa Clara, CA</td>\n      <td>\"Mozilla/5.0 (X11; Linux x86_64) AppleWebKit/5...</td>\n      <td>2018</td>\n      <td>11</td>\n      <td>2</td>\n    </tr>\n    <tr>\n      <th>3</th>\n      <td>2018-11-15 02:57:51.796</td>\n      <td>9</td>\n      <td>free</td>\n      <td>None</td>\n      <td>None</td>\n      <td>563</td>\n      <td>Eureka-Arcata-Fortuna, CA</td>\n      <td>Mozilla/5.0 (Windows NT 6.1; WOW64; Trident/7....</td>\n      <td>2018</td>\n      <td>11</td>\n      <td>3</td>\n    </tr>\n    <tr>\n      <th>4</th>\n      <td>2018-11-15 04:29:37.796</td>\n      <td>12</td>\n      <td>free</td>\n      <td>None</td>\n      <td>None</td>\n      <td>521</td>\n      <td>New York-Newark-Jersey City, NY-NJ-PA</td>\n      <td>Mozilla/5.0 (Windows NT 6.1; rv:31.0) Gecko/20...</td>\n      <td>2018</td>\n      <td>11</td>\n      <td>4</td>\n    </tr>\n    <tr>\n      <th>...</th>\n      <td>...</td>\n      <td>...</td>\n      <td>...</td>\n      <td>...</td>\n      <td>...</td>\n      <td>...</td>\n      <td>...</td>\n      <td>...</td>\n      <td>...</td>\n      <td>...</td>\n      <td>...</td>\n    </tr>\n    <tr>\n      <th>8051</th>\n      <td>2018-11-01 22:42:00.796</td>\n      <td>10</td>\n      <td>free</td>\n      <td>None</td>\n      <td>None</td>\n      <td>9</td>\n      <td>Washington-Arlington-Alexandria, DC-VA-MD-WV</td>\n      <td>\"Mozilla/5.0 (Macintosh; Intel Mac OS X 10_9_4...</td>\n      <td>2018</td>\n      <td>11</td>\n      <td>60129542213</td>\n    </tr>\n    <tr>\n      <th>8052</th>\n      <td>2018-11-01 22:50:15.796</td>\n      <td>26</td>\n      <td>free</td>\n      <td>None</td>\n      <td>None</td>\n      <td>169</td>\n      <td>San Jose-Sunnyvale-Santa Clara, CA</td>\n      <td>\"Mozilla/5.0 (X11; Linux x86_64) AppleWebKit/5...</td>\n      <td>2018</td>\n      <td>11</td>\n      <td>60129542214</td>\n    </tr>\n    <tr>\n      <th>8053</th>\n      <td>2018-11-01 22:52:05.796</td>\n      <td>26</td>\n      <td>free</td>\n      <td>None</td>\n      <td>None</td>\n      <td>169</td>\n      <td>San Jose-Sunnyvale-Santa Clara, CA</td>\n      <td>\"Mozilla/5.0 (X11; Linux x86_64) AppleWebKit/5...</td>\n      <td>2018</td>\n      <td>11</td>\n      <td>60129542215</td>\n    </tr>\n    <tr>\n      <th>8054</th>\n      <td>2018-11-01 22:55:25.796</td>\n      <td>26</td>\n      <td>free</td>\n      <td>None</td>\n      <td>None</td>\n      <td>169</td>\n      <td>San Jose-Sunnyvale-Santa Clara, CA</td>\n      <td>\"Mozilla/5.0 (X11; Linux x86_64) AppleWebKit/5...</td>\n      <td>2018</td>\n      <td>11</td>\n      <td>60129542216</td>\n    </tr>\n    <tr>\n      <th>8055</th>\n      <td>2018-11-01 23:23:14.796</td>\n      <td>101</td>\n      <td>free</td>\n      <td>None</td>\n      <td>None</td>\n      <td>100</td>\n      <td>New Orleans-Metairie, LA</td>\n      <td>\"Mozilla/5.0 (Windows NT 6.3; WOW64) AppleWebK...</td>\n      <td>2018</td>\n      <td>11</td>\n      <td>60129542217</td>\n    </tr>\n  </tbody>\n</table>\n<p>8056 rows × 11 columns</p>\n</div>"
     },
     "execution_count": 82,
     "metadata": {},
     "output_type": "execute_result"
    }
   ],
   "source": [
    "songplays_table.toPandas()"
   ],
   "metadata": {
    "collapsed": false,
    "pycharm": {
     "name": "#%%\n"
    }
   }
  },
  {
   "cell_type": "raw",
   "source": [
    "Start again"
   ],
   "metadata": {
    "collapsed": false,
    "pycharm": {
     "name": "#%% raw\n"
    }
   }
  },
  {
   "cell_type": "code",
   "execution_count": 91,
   "outputs": [],
   "source": [
    "song_data = \"data/song_data/*/*/*/*.json\""
   ],
   "metadata": {
    "collapsed": false,
    "pycharm": {
     "name": "#%%\n"
    }
   }
  },
  {
   "cell_type": "code",
   "execution_count": 92,
   "outputs": [
    {
     "name": "stderr",
     "output_type": "stream",
     "text": [
      "                                                                                \r"
     ]
    }
   ],
   "source": [
    "df = spark.read.json(song_data)"
   ],
   "metadata": {
    "collapsed": false,
    "pycharm": {
     "name": "#%%\n"
    }
   }
  },
  {
   "cell_type": "code",
   "execution_count": 93,
   "outputs": [],
   "source": [
    "songs_table = df.select(\"song_id\", \"title\", \"artist_id\", \"year\", \"duration\").dropDuplicates()"
   ],
   "metadata": {
    "collapsed": false,
    "pycharm": {
     "name": "#%%\n"
    }
   }
  },
  {
   "cell_type": "code",
   "execution_count": 94,
   "outputs": [],
   "source": [
    "artists_table = df.select(\"artist_id\",\n",
    "                          col(\"artist_name\").alias(\"name\"),\n",
    "                          col(\"artist_location\").alias(\"location\"),\n",
    "                          col(\"artist_latitude\").alias(\"latitude\"),\n",
    "                          col(\"artist_longitude\").alias(\"longitude\")).dropDuplicates()"
   ],
   "metadata": {
    "collapsed": false,
    "pycharm": {
     "name": "#%%\n"
    }
   }
  },
  {
   "cell_type": "code",
   "execution_count": 96,
   "outputs": [],
   "source": [
    "log_data = \"data/log-data/*.json\""
   ],
   "metadata": {
    "collapsed": false,
    "pycharm": {
     "name": "#%%\n"
    }
   }
  },
  {
   "cell_type": "code",
   "execution_count": 98,
   "outputs": [],
   "source": [
    "df = spark.read.json(log_data)"
   ],
   "metadata": {
    "collapsed": false,
    "pycharm": {
     "name": "#%%\n"
    }
   }
  },
  {
   "cell_type": "code",
   "execution_count": 99,
   "outputs": [],
   "source": [
    "users_table = df.select(col(\"userId\").alias(\"user_id\"),\n",
    "                        col(\"firstName\").alias(\"first_name\"),\n",
    "                        col(\"lastName\").alias(\"last_name\"), \"gender\", \"level\")"
   ],
   "metadata": {
    "collapsed": false,
    "pycharm": {
     "name": "#%%\n"
    }
   }
  },
  {
   "cell_type": "code",
   "execution_count": 100,
   "outputs": [],
   "source": [
    "@udf(returnType=TimestampType())\n",
    "def get_timestamp(ts):\n",
    "    return datetime.fromtimestamp(ts/1000.0)\n",
    "\n",
    "df = df.withColumn(\"start_time\", get_timestamp(df.ts))\n",
    "df = df.withColumn(\"hour\", F.hour(df.start_time))\n",
    "df = df.withColumn(\"day\", F.dayofmonth(df.start_time))\n",
    "df = df.withColumn(\"week\", F.weekofyear(df.start_time))\n",
    "df = df.withColumn(\"month\", F.month(df.start_time))\n",
    "df = df.withColumn(\"year\", F.year(df.start_time))\n",
    "df = df.withColumn(\"weekday\", F.date_format(df.start_time, \"E\"))"
   ],
   "metadata": {
    "collapsed": false,
    "pycharm": {
     "name": "#%%\n"
    }
   }
  },
  {
   "cell_type": "code",
   "execution_count": 105,
   "outputs": [],
   "source": [
    "time_table = df.select(\"start_time\", \"hour\", \"day\", \"week\", \"month\", \"year\", \"weekday\")\\\n",
    "    .dropDuplicates()"
   ],
   "metadata": {
    "collapsed": false,
    "pycharm": {
     "name": "#%%\n"
    }
   }
  },
  {
   "cell_type": "code",
   "execution_count": 114,
   "outputs": [],
   "source": [
    "song_artist_table = songs_table.join(artists_table, \"artist_id\", 'left_outer')"
   ],
   "metadata": {
    "collapsed": false,
    "pycharm": {
     "name": "#%%\n"
    }
   }
  },
  {
   "cell_type": "code",
   "execution_count": 115,
   "outputs": [
    {
     "name": "stderr",
     "output_type": "stream",
     "text": [
      "                                                                                \r"
     ]
    },
    {
     "data": {
      "text/plain": "             artist_id             song_id  \\\n0   ARGUVEV1187B98BA17  SOGOSOV12AF72A285E   \n1   ARMBR4Y1187B9990EB  SOTTDKS12AB018D69B   \n2   ARMAC4T1187FB3FA4C  SOBBUGU12A8C13E95D   \n3   AR8ZCNI1187B9A069B  SOIAZJW12AB01853F1   \n4   ARDNS031187B9924F0  SONYPOM12A8C13B2D7   \n..                 ...                 ...   \n66  ARAJPHH1187FB5566A  SOYTPEP12AB0180E7B   \n67  AR62SOJ1187FB47BB5  SOGVQGJ12AB017F169   \n68  AREDL271187FB40F44  SOPEGZN12AB0181B3D   \n69  AR5KOSW1187FB35FF4  SOZCTXZ12AB0182364   \n70  AR1ZHYZ1187FB3C717  SOILPQQ12AB017E82A   \n\n                                                title  year   duration  \\\n0                                   ¿Dónde va Chichi?  1997  313.12934   \n1                                It Wont Be Christmas     0  241.47546   \n2                     Setting Fire to Sleeping Giants  2004  207.77751   \n3                                          Pink World  1984  269.81832   \n4   I Think My Wife Is Running Around On Me (Taco ...  2005  186.48771   \n..                                                ...   ...        ...   \n66                                    Twist and Shout  1964  164.80608   \n67                                          Ten Tonne  2005  337.68444   \n68                   Get Your Head Stuck On Your Neck     0   45.66159   \n69                                     Setanta matins     0  269.58322   \n70                               Sohna Nee Sohna Data     0  599.24853   \n\n                         name           location  latitude  longitude  \n0              Sierra Maestra                          NaN        NaN  \n1                David Martin    California - SF  37.77916 -122.42005  \n2   The Dillinger Escape Plan  Morris Plains, NJ  40.82624  -74.47995  \n3            Planet P Project                          NaN        NaN  \n4                  Tim Wilson            Georgia  32.67828  -83.22295  \n..                        ...                ...       ...        ...  \n66            The Shangri-Las         Queens, NY  40.70380  -73.83168  \n67             Chase & Status                          NaN        NaN  \n68               Soul Mekanik                          NaN        NaN  \n69                      Elena          Dubai UAE  49.80388   15.47491  \n70              Faiz Ali Faiz                          NaN        NaN  \n\n[71 rows x 9 columns]",
      "text/html": "<div>\n<style scoped>\n    .dataframe tbody tr th:only-of-type {\n        vertical-align: middle;\n    }\n\n    .dataframe tbody tr th {\n        vertical-align: top;\n    }\n\n    .dataframe thead th {\n        text-align: right;\n    }\n</style>\n<table border=\"1\" class=\"dataframe\">\n  <thead>\n    <tr style=\"text-align: right;\">\n      <th></th>\n      <th>artist_id</th>\n      <th>song_id</th>\n      <th>title</th>\n      <th>year</th>\n      <th>duration</th>\n      <th>name</th>\n      <th>location</th>\n      <th>latitude</th>\n      <th>longitude</th>\n    </tr>\n  </thead>\n  <tbody>\n    <tr>\n      <th>0</th>\n      <td>ARGUVEV1187B98BA17</td>\n      <td>SOGOSOV12AF72A285E</td>\n      <td>¿Dónde va Chichi?</td>\n      <td>1997</td>\n      <td>313.12934</td>\n      <td>Sierra Maestra</td>\n      <td></td>\n      <td>NaN</td>\n      <td>NaN</td>\n    </tr>\n    <tr>\n      <th>1</th>\n      <td>ARMBR4Y1187B9990EB</td>\n      <td>SOTTDKS12AB018D69B</td>\n      <td>It Wont Be Christmas</td>\n      <td>0</td>\n      <td>241.47546</td>\n      <td>David Martin</td>\n      <td>California - SF</td>\n      <td>37.77916</td>\n      <td>-122.42005</td>\n    </tr>\n    <tr>\n      <th>2</th>\n      <td>ARMAC4T1187FB3FA4C</td>\n      <td>SOBBUGU12A8C13E95D</td>\n      <td>Setting Fire to Sleeping Giants</td>\n      <td>2004</td>\n      <td>207.77751</td>\n      <td>The Dillinger Escape Plan</td>\n      <td>Morris Plains, NJ</td>\n      <td>40.82624</td>\n      <td>-74.47995</td>\n    </tr>\n    <tr>\n      <th>3</th>\n      <td>AR8ZCNI1187B9A069B</td>\n      <td>SOIAZJW12AB01853F1</td>\n      <td>Pink World</td>\n      <td>1984</td>\n      <td>269.81832</td>\n      <td>Planet P Project</td>\n      <td></td>\n      <td>NaN</td>\n      <td>NaN</td>\n    </tr>\n    <tr>\n      <th>4</th>\n      <td>ARDNS031187B9924F0</td>\n      <td>SONYPOM12A8C13B2D7</td>\n      <td>I Think My Wife Is Running Around On Me (Taco ...</td>\n      <td>2005</td>\n      <td>186.48771</td>\n      <td>Tim Wilson</td>\n      <td>Georgia</td>\n      <td>32.67828</td>\n      <td>-83.22295</td>\n    </tr>\n    <tr>\n      <th>...</th>\n      <td>...</td>\n      <td>...</td>\n      <td>...</td>\n      <td>...</td>\n      <td>...</td>\n      <td>...</td>\n      <td>...</td>\n      <td>...</td>\n      <td>...</td>\n    </tr>\n    <tr>\n      <th>66</th>\n      <td>ARAJPHH1187FB5566A</td>\n      <td>SOYTPEP12AB0180E7B</td>\n      <td>Twist and Shout</td>\n      <td>1964</td>\n      <td>164.80608</td>\n      <td>The Shangri-Las</td>\n      <td>Queens, NY</td>\n      <td>40.70380</td>\n      <td>-73.83168</td>\n    </tr>\n    <tr>\n      <th>67</th>\n      <td>AR62SOJ1187FB47BB5</td>\n      <td>SOGVQGJ12AB017F169</td>\n      <td>Ten Tonne</td>\n      <td>2005</td>\n      <td>337.68444</td>\n      <td>Chase &amp; Status</td>\n      <td></td>\n      <td>NaN</td>\n      <td>NaN</td>\n    </tr>\n    <tr>\n      <th>68</th>\n      <td>AREDL271187FB40F44</td>\n      <td>SOPEGZN12AB0181B3D</td>\n      <td>Get Your Head Stuck On Your Neck</td>\n      <td>0</td>\n      <td>45.66159</td>\n      <td>Soul Mekanik</td>\n      <td></td>\n      <td>NaN</td>\n      <td>NaN</td>\n    </tr>\n    <tr>\n      <th>69</th>\n      <td>AR5KOSW1187FB35FF4</td>\n      <td>SOZCTXZ12AB0182364</td>\n      <td>Setanta matins</td>\n      <td>0</td>\n      <td>269.58322</td>\n      <td>Elena</td>\n      <td>Dubai UAE</td>\n      <td>49.80388</td>\n      <td>15.47491</td>\n    </tr>\n    <tr>\n      <th>70</th>\n      <td>AR1ZHYZ1187FB3C717</td>\n      <td>SOILPQQ12AB017E82A</td>\n      <td>Sohna Nee Sohna Data</td>\n      <td>0</td>\n      <td>599.24853</td>\n      <td>Faiz Ali Faiz</td>\n      <td></td>\n      <td>NaN</td>\n      <td>NaN</td>\n    </tr>\n  </tbody>\n</table>\n<p>71 rows × 9 columns</p>\n</div>"
     },
     "execution_count": 115,
     "metadata": {},
     "output_type": "execute_result"
    }
   ],
   "source": [
    "song_artist_table.toPandas()"
   ],
   "metadata": {
    "collapsed": false,
    "pycharm": {
     "name": "#%%\n"
    }
   }
  },
  {
   "cell_type": "code",
   "execution_count": 110,
   "outputs": [
    {
     "name": "stderr",
     "output_type": "stream",
     "text": [
      "                                                                                \r"
     ]
    },
    {
     "data": {
      "text/plain": "               artist       auth firstName gender  itemInSession lastName  \\\n0            Harmonia  Logged In      Ryan      M              0    Smith   \n1         The Prodigy  Logged In      Ryan      M              1    Smith   \n2               Train  Logged In      Ryan      M              2    Smith   \n3                None  Logged In     Wyatt      M              0    Scott   \n4                None  Logged In    Austin      M              0  Rosales   \n...               ...        ...       ...    ...            ...      ...   \n8051  Black Eyed Peas  Logged In    Sylvie      F              0     Cruz   \n8052             None  Logged In      Ryan      M              0    Smith   \n8053     Fall Out Boy  Logged In      Ryan      M              1    Smith   \n8054           M.I.A.  Logged In      Ryan      M              2    Smith   \n8055         Survivor  Logged In    Jayden      M              0      Fox   \n\n         length level                                      location method  \\\n0     655.77751  free            San Jose-Sunnyvale-Santa Clara, CA    PUT   \n1     260.07465  free            San Jose-Sunnyvale-Santa Clara, CA    PUT   \n2     205.45261  free            San Jose-Sunnyvale-Santa Clara, CA    PUT   \n3           NaN  free                     Eureka-Arcata-Fortuna, CA    GET   \n4           NaN  free         New York-Newark-Jersey City, NY-NJ-PA    GET   \n...         ...   ...                                           ...    ...   \n8051  214.93506  free  Washington-Arlington-Alexandria, DC-VA-MD-WV    PUT   \n8052        NaN  free            San Jose-Sunnyvale-Santa Clara, CA    GET   \n8053  200.72444  free            San Jose-Sunnyvale-Santa Clara, CA    PUT   \n8054  233.71710  free            San Jose-Sunnyvale-Santa Clara, CA    PUT   \n8055  245.36771  free                      New Orleans-Metairie, LA    PUT   \n\n      ...             ts                                          userAgent  \\\n0     ...  1542241826796  \"Mozilla/5.0 (X11; Linux x86_64) AppleWebKit/5...   \n1     ...  1542242481796  \"Mozilla/5.0 (X11; Linux x86_64) AppleWebKit/5...   \n2     ...  1542242741796  \"Mozilla/5.0 (X11; Linux x86_64) AppleWebKit/5...   \n3     ...  1542247071796  Mozilla/5.0 (Windows NT 6.1; WOW64; Trident/7....   \n4     ...  1542252577796  Mozilla/5.0 (Windows NT 6.1; rv:31.0) Gecko/20...   \n...   ...            ...                                                ...   \n8051  ...  1541108520796  \"Mozilla/5.0 (Macintosh; Intel Mac OS X 10_9_4...   \n8052  ...  1541109015796  \"Mozilla/5.0 (X11; Linux x86_64) AppleWebKit/5...   \n8053  ...  1541109125796  \"Mozilla/5.0 (X11; Linux x86_64) AppleWebKit/5...   \n8054  ...  1541109325796  \"Mozilla/5.0 (X11; Linux x86_64) AppleWebKit/5...   \n8055  ...  1541110994796  \"Mozilla/5.0 (Windows NT 6.3; WOW64) AppleWebK...   \n\n      userId              start_time  hour  day week month  year  weekday  \n0         26 2018-11-15 01:30:26.796     1   15   46    11  2018      Thu  \n1         26 2018-11-15 01:41:21.796     1   15   46    11  2018      Thu  \n2         26 2018-11-15 01:45:41.796     1   15   46    11  2018      Thu  \n3          9 2018-11-15 02:57:51.796     2   15   46    11  2018      Thu  \n4         12 2018-11-15 04:29:37.796     4   15   46    11  2018      Thu  \n...      ...                     ...   ...  ...  ...   ...   ...      ...  \n8051      10 2018-11-01 22:42:00.796    22    1   44    11  2018      Thu  \n8052      26 2018-11-01 22:50:15.796    22    1   44    11  2018      Thu  \n8053      26 2018-11-01 22:52:05.796    22    1   44    11  2018      Thu  \n8054      26 2018-11-01 22:55:25.796    22    1   44    11  2018      Thu  \n8055     101 2018-11-01 23:23:14.796    23    1   44    11  2018      Thu  \n\n[8056 rows x 25 columns]",
      "text/html": "<div>\n<style scoped>\n    .dataframe tbody tr th:only-of-type {\n        vertical-align: middle;\n    }\n\n    .dataframe tbody tr th {\n        vertical-align: top;\n    }\n\n    .dataframe thead th {\n        text-align: right;\n    }\n</style>\n<table border=\"1\" class=\"dataframe\">\n  <thead>\n    <tr style=\"text-align: right;\">\n      <th></th>\n      <th>artist</th>\n      <th>auth</th>\n      <th>firstName</th>\n      <th>gender</th>\n      <th>itemInSession</th>\n      <th>lastName</th>\n      <th>length</th>\n      <th>level</th>\n      <th>location</th>\n      <th>method</th>\n      <th>...</th>\n      <th>ts</th>\n      <th>userAgent</th>\n      <th>userId</th>\n      <th>start_time</th>\n      <th>hour</th>\n      <th>day</th>\n      <th>week</th>\n      <th>month</th>\n      <th>year</th>\n      <th>weekday</th>\n    </tr>\n  </thead>\n  <tbody>\n    <tr>\n      <th>0</th>\n      <td>Harmonia</td>\n      <td>Logged In</td>\n      <td>Ryan</td>\n      <td>M</td>\n      <td>0</td>\n      <td>Smith</td>\n      <td>655.77751</td>\n      <td>free</td>\n      <td>San Jose-Sunnyvale-Santa Clara, CA</td>\n      <td>PUT</td>\n      <td>...</td>\n      <td>1542241826796</td>\n      <td>\"Mozilla/5.0 (X11; Linux x86_64) AppleWebKit/5...</td>\n      <td>26</td>\n      <td>2018-11-15 01:30:26.796</td>\n      <td>1</td>\n      <td>15</td>\n      <td>46</td>\n      <td>11</td>\n      <td>2018</td>\n      <td>Thu</td>\n    </tr>\n    <tr>\n      <th>1</th>\n      <td>The Prodigy</td>\n      <td>Logged In</td>\n      <td>Ryan</td>\n      <td>M</td>\n      <td>1</td>\n      <td>Smith</td>\n      <td>260.07465</td>\n      <td>free</td>\n      <td>San Jose-Sunnyvale-Santa Clara, CA</td>\n      <td>PUT</td>\n      <td>...</td>\n      <td>1542242481796</td>\n      <td>\"Mozilla/5.0 (X11; Linux x86_64) AppleWebKit/5...</td>\n      <td>26</td>\n      <td>2018-11-15 01:41:21.796</td>\n      <td>1</td>\n      <td>15</td>\n      <td>46</td>\n      <td>11</td>\n      <td>2018</td>\n      <td>Thu</td>\n    </tr>\n    <tr>\n      <th>2</th>\n      <td>Train</td>\n      <td>Logged In</td>\n      <td>Ryan</td>\n      <td>M</td>\n      <td>2</td>\n      <td>Smith</td>\n      <td>205.45261</td>\n      <td>free</td>\n      <td>San Jose-Sunnyvale-Santa Clara, CA</td>\n      <td>PUT</td>\n      <td>...</td>\n      <td>1542242741796</td>\n      <td>\"Mozilla/5.0 (X11; Linux x86_64) AppleWebKit/5...</td>\n      <td>26</td>\n      <td>2018-11-15 01:45:41.796</td>\n      <td>1</td>\n      <td>15</td>\n      <td>46</td>\n      <td>11</td>\n      <td>2018</td>\n      <td>Thu</td>\n    </tr>\n    <tr>\n      <th>3</th>\n      <td>None</td>\n      <td>Logged In</td>\n      <td>Wyatt</td>\n      <td>M</td>\n      <td>0</td>\n      <td>Scott</td>\n      <td>NaN</td>\n      <td>free</td>\n      <td>Eureka-Arcata-Fortuna, CA</td>\n      <td>GET</td>\n      <td>...</td>\n      <td>1542247071796</td>\n      <td>Mozilla/5.0 (Windows NT 6.1; WOW64; Trident/7....</td>\n      <td>9</td>\n      <td>2018-11-15 02:57:51.796</td>\n      <td>2</td>\n      <td>15</td>\n      <td>46</td>\n      <td>11</td>\n      <td>2018</td>\n      <td>Thu</td>\n    </tr>\n    <tr>\n      <th>4</th>\n      <td>None</td>\n      <td>Logged In</td>\n      <td>Austin</td>\n      <td>M</td>\n      <td>0</td>\n      <td>Rosales</td>\n      <td>NaN</td>\n      <td>free</td>\n      <td>New York-Newark-Jersey City, NY-NJ-PA</td>\n      <td>GET</td>\n      <td>...</td>\n      <td>1542252577796</td>\n      <td>Mozilla/5.0 (Windows NT 6.1; rv:31.0) Gecko/20...</td>\n      <td>12</td>\n      <td>2018-11-15 04:29:37.796</td>\n      <td>4</td>\n      <td>15</td>\n      <td>46</td>\n      <td>11</td>\n      <td>2018</td>\n      <td>Thu</td>\n    </tr>\n    <tr>\n      <th>...</th>\n      <td>...</td>\n      <td>...</td>\n      <td>...</td>\n      <td>...</td>\n      <td>...</td>\n      <td>...</td>\n      <td>...</td>\n      <td>...</td>\n      <td>...</td>\n      <td>...</td>\n      <td>...</td>\n      <td>...</td>\n      <td>...</td>\n      <td>...</td>\n      <td>...</td>\n      <td>...</td>\n      <td>...</td>\n      <td>...</td>\n      <td>...</td>\n      <td>...</td>\n      <td>...</td>\n    </tr>\n    <tr>\n      <th>8051</th>\n      <td>Black Eyed Peas</td>\n      <td>Logged In</td>\n      <td>Sylvie</td>\n      <td>F</td>\n      <td>0</td>\n      <td>Cruz</td>\n      <td>214.93506</td>\n      <td>free</td>\n      <td>Washington-Arlington-Alexandria, DC-VA-MD-WV</td>\n      <td>PUT</td>\n      <td>...</td>\n      <td>1541108520796</td>\n      <td>\"Mozilla/5.0 (Macintosh; Intel Mac OS X 10_9_4...</td>\n      <td>10</td>\n      <td>2018-11-01 22:42:00.796</td>\n      <td>22</td>\n      <td>1</td>\n      <td>44</td>\n      <td>11</td>\n      <td>2018</td>\n      <td>Thu</td>\n    </tr>\n    <tr>\n      <th>8052</th>\n      <td>None</td>\n      <td>Logged In</td>\n      <td>Ryan</td>\n      <td>M</td>\n      <td>0</td>\n      <td>Smith</td>\n      <td>NaN</td>\n      <td>free</td>\n      <td>San Jose-Sunnyvale-Santa Clara, CA</td>\n      <td>GET</td>\n      <td>...</td>\n      <td>1541109015796</td>\n      <td>\"Mozilla/5.0 (X11; Linux x86_64) AppleWebKit/5...</td>\n      <td>26</td>\n      <td>2018-11-01 22:50:15.796</td>\n      <td>22</td>\n      <td>1</td>\n      <td>44</td>\n      <td>11</td>\n      <td>2018</td>\n      <td>Thu</td>\n    </tr>\n    <tr>\n      <th>8053</th>\n      <td>Fall Out Boy</td>\n      <td>Logged In</td>\n      <td>Ryan</td>\n      <td>M</td>\n      <td>1</td>\n      <td>Smith</td>\n      <td>200.72444</td>\n      <td>free</td>\n      <td>San Jose-Sunnyvale-Santa Clara, CA</td>\n      <td>PUT</td>\n      <td>...</td>\n      <td>1541109125796</td>\n      <td>\"Mozilla/5.0 (X11; Linux x86_64) AppleWebKit/5...</td>\n      <td>26</td>\n      <td>2018-11-01 22:52:05.796</td>\n      <td>22</td>\n      <td>1</td>\n      <td>44</td>\n      <td>11</td>\n      <td>2018</td>\n      <td>Thu</td>\n    </tr>\n    <tr>\n      <th>8054</th>\n      <td>M.I.A.</td>\n      <td>Logged In</td>\n      <td>Ryan</td>\n      <td>M</td>\n      <td>2</td>\n      <td>Smith</td>\n      <td>233.71710</td>\n      <td>free</td>\n      <td>San Jose-Sunnyvale-Santa Clara, CA</td>\n      <td>PUT</td>\n      <td>...</td>\n      <td>1541109325796</td>\n      <td>\"Mozilla/5.0 (X11; Linux x86_64) AppleWebKit/5...</td>\n      <td>26</td>\n      <td>2018-11-01 22:55:25.796</td>\n      <td>22</td>\n      <td>1</td>\n      <td>44</td>\n      <td>11</td>\n      <td>2018</td>\n      <td>Thu</td>\n    </tr>\n    <tr>\n      <th>8055</th>\n      <td>Survivor</td>\n      <td>Logged In</td>\n      <td>Jayden</td>\n      <td>M</td>\n      <td>0</td>\n      <td>Fox</td>\n      <td>245.36771</td>\n      <td>free</td>\n      <td>New Orleans-Metairie, LA</td>\n      <td>PUT</td>\n      <td>...</td>\n      <td>1541110994796</td>\n      <td>\"Mozilla/5.0 (Windows NT 6.3; WOW64) AppleWebK...</td>\n      <td>101</td>\n      <td>2018-11-01 23:23:14.796</td>\n      <td>23</td>\n      <td>1</td>\n      <td>44</td>\n      <td>11</td>\n      <td>2018</td>\n      <td>Thu</td>\n    </tr>\n  </tbody>\n</table>\n<p>8056 rows × 25 columns</p>\n</div>"
     },
     "execution_count": 110,
     "metadata": {},
     "output_type": "execute_result"
    }
   ],
   "source": [
    "df.toPandas()"
   ],
   "metadata": {
    "collapsed": false,
    "pycharm": {
     "name": "#%%\n"
    }
   }
  },
  {
   "cell_type": "code",
   "execution_count": 116,
   "outputs": [],
   "source": [
    "songplays_table = df.join(song_artist_table, (df.song == song_artist_table.title) & (df.artist == song_artist_table.name) & (df.length == song_artist_table.duration), 'left_outer')\\\n",
    "    .select(df.start_time, col(df.userId).alias(\"user_id\"), df.level, song_artist_table.song_id, song_artist_table.artist_id, col(df.sessionId).alias(\"session_id\"), df.location, col(df.userAgent).alias(\"user_agent\"))\\\n",
    "    .withColumn(\"songplay_id\", monotonically_increasing_id())"
   ],
   "metadata": {
    "collapsed": false,
    "pycharm": {
     "name": "#%%\n"
    }
   }
  },
  {
   "cell_type": "code",
   "execution_count": 118,
   "outputs": [
    {
     "name": "stderr",
     "output_type": "stream",
     "text": [
      "                                                                                \r"
     ]
    },
    {
     "data": {
      "text/plain": "                  start_time userId level song_id artist_id  sessionId  \\\n0    2018-11-20 15:21:35.796     44  paid    None      None        639   \n1    2018-11-22 00:36:31.796     15  paid    None      None        818   \n2    2018-11-21 13:29:49.796     15  paid    None      None        764   \n3    2018-11-05 14:42:46.796     44  paid    None      None        269   \n4    2018-11-04 08:00:08.796     25  paid    None      None        128   \n...                      ...    ...   ...     ...       ...        ...   \n8051 2018-11-16 19:17:31.796     97  paid    None      None        633   \n8052 2018-11-05 18:38:16.796     73  paid    None      None        255   \n8053 2018-11-23 21:15:47.796     85  paid    None      None        891   \n8054 2018-11-02 21:43:17.796      3  free    None      None        112   \n8055 2018-11-25 07:51:16.796     49  paid    None      None        916   \n\n                                 location  \\\n0                Waterloo-Cedar Falls, IA   \n1      Chicago-Naperville-Elgin, IL-IN-WI   \n2      Chicago-Naperville-Elgin, IL-IN-WI   \n3                Waterloo-Cedar Falls, IA   \n4                        Marinette, WI-MI   \n...                                   ...   \n8051             Lansing-East Lansing, MI   \n8052  Tampa-St. Petersburg-Clearwater, FL   \n8053                        Red Bluff, CA   \n8054                          Saginaw, MI   \n8055    San Francisco-Oakland-Hayward, CA   \n\n                                              userAgent  year  month  day  \\\n0     Mozilla/5.0 (Macintosh; Intel Mac OS X 10.9; r...  2018     11   20   \n1     \"Mozilla/5.0 (X11; Linux x86_64) AppleWebKit/5...  2018     11   22   \n2     \"Mozilla/5.0 (X11; Linux x86_64) AppleWebKit/5...  2018     11   21   \n3     Mozilla/5.0 (Macintosh; Intel Mac OS X 10.9; r...  2018     11    5   \n4     \"Mozilla/5.0 (Windows NT 6.3; WOW64) AppleWebK...  2018     11    4   \n...                                                 ...   ...    ...  ...   \n8051  \"Mozilla/5.0 (X11; Linux x86_64) AppleWebKit/5...  2018     11   16   \n8052  \"Mozilla/5.0 (Macintosh; Intel Mac OS X 10_9_4...  2018     11    5   \n8053  \"Mozilla/5.0 (Macintosh; Intel Mac OS X 10_10_...  2018     11   23   \n8054  Mozilla/5.0 (Windows NT 6.1; WOW64; rv:31.0) G...  2018     11    2   \n8055  Mozilla/5.0 (Windows NT 5.1; rv:31.0) Gecko/20...  2018     11   25   \n\n        songplay_id  \n0                 0  \n1                 1  \n2                 2  \n3                 3  \n4                 4  \n...             ...  \n8051  1709396983829  \n8052  1709396983830  \n8053  1709396983831  \n8054  1709396983832  \n8055  1709396983833  \n\n[8056 rows x 12 columns]",
      "text/html": "<div>\n<style scoped>\n    .dataframe tbody tr th:only-of-type {\n        vertical-align: middle;\n    }\n\n    .dataframe tbody tr th {\n        vertical-align: top;\n    }\n\n    .dataframe thead th {\n        text-align: right;\n    }\n</style>\n<table border=\"1\" class=\"dataframe\">\n  <thead>\n    <tr style=\"text-align: right;\">\n      <th></th>\n      <th>start_time</th>\n      <th>userId</th>\n      <th>level</th>\n      <th>song_id</th>\n      <th>artist_id</th>\n      <th>sessionId</th>\n      <th>location</th>\n      <th>userAgent</th>\n      <th>year</th>\n      <th>month</th>\n      <th>day</th>\n      <th>songplay_id</th>\n    </tr>\n  </thead>\n  <tbody>\n    <tr>\n      <th>0</th>\n      <td>2018-11-20 15:21:35.796</td>\n      <td>44</td>\n      <td>paid</td>\n      <td>None</td>\n      <td>None</td>\n      <td>639</td>\n      <td>Waterloo-Cedar Falls, IA</td>\n      <td>Mozilla/5.0 (Macintosh; Intel Mac OS X 10.9; r...</td>\n      <td>2018</td>\n      <td>11</td>\n      <td>20</td>\n      <td>0</td>\n    </tr>\n    <tr>\n      <th>1</th>\n      <td>2018-11-22 00:36:31.796</td>\n      <td>15</td>\n      <td>paid</td>\n      <td>None</td>\n      <td>None</td>\n      <td>818</td>\n      <td>Chicago-Naperville-Elgin, IL-IN-WI</td>\n      <td>\"Mozilla/5.0 (X11; Linux x86_64) AppleWebKit/5...</td>\n      <td>2018</td>\n      <td>11</td>\n      <td>22</td>\n      <td>1</td>\n    </tr>\n    <tr>\n      <th>2</th>\n      <td>2018-11-21 13:29:49.796</td>\n      <td>15</td>\n      <td>paid</td>\n      <td>None</td>\n      <td>None</td>\n      <td>764</td>\n      <td>Chicago-Naperville-Elgin, IL-IN-WI</td>\n      <td>\"Mozilla/5.0 (X11; Linux x86_64) AppleWebKit/5...</td>\n      <td>2018</td>\n      <td>11</td>\n      <td>21</td>\n      <td>2</td>\n    </tr>\n    <tr>\n      <th>3</th>\n      <td>2018-11-05 14:42:46.796</td>\n      <td>44</td>\n      <td>paid</td>\n      <td>None</td>\n      <td>None</td>\n      <td>269</td>\n      <td>Waterloo-Cedar Falls, IA</td>\n      <td>Mozilla/5.0 (Macintosh; Intel Mac OS X 10.9; r...</td>\n      <td>2018</td>\n      <td>11</td>\n      <td>5</td>\n      <td>3</td>\n    </tr>\n    <tr>\n      <th>4</th>\n      <td>2018-11-04 08:00:08.796</td>\n      <td>25</td>\n      <td>paid</td>\n      <td>None</td>\n      <td>None</td>\n      <td>128</td>\n      <td>Marinette, WI-MI</td>\n      <td>\"Mozilla/5.0 (Windows NT 6.3; WOW64) AppleWebK...</td>\n      <td>2018</td>\n      <td>11</td>\n      <td>4</td>\n      <td>4</td>\n    </tr>\n    <tr>\n      <th>...</th>\n      <td>...</td>\n      <td>...</td>\n      <td>...</td>\n      <td>...</td>\n      <td>...</td>\n      <td>...</td>\n      <td>...</td>\n      <td>...</td>\n      <td>...</td>\n      <td>...</td>\n      <td>...</td>\n      <td>...</td>\n    </tr>\n    <tr>\n      <th>8051</th>\n      <td>2018-11-16 19:17:31.796</td>\n      <td>97</td>\n      <td>paid</td>\n      <td>None</td>\n      <td>None</td>\n      <td>633</td>\n      <td>Lansing-East Lansing, MI</td>\n      <td>\"Mozilla/5.0 (X11; Linux x86_64) AppleWebKit/5...</td>\n      <td>2018</td>\n      <td>11</td>\n      <td>16</td>\n      <td>1709396983829</td>\n    </tr>\n    <tr>\n      <th>8052</th>\n      <td>2018-11-05 18:38:16.796</td>\n      <td>73</td>\n      <td>paid</td>\n      <td>None</td>\n      <td>None</td>\n      <td>255</td>\n      <td>Tampa-St. Petersburg-Clearwater, FL</td>\n      <td>\"Mozilla/5.0 (Macintosh; Intel Mac OS X 10_9_4...</td>\n      <td>2018</td>\n      <td>11</td>\n      <td>5</td>\n      <td>1709396983830</td>\n    </tr>\n    <tr>\n      <th>8053</th>\n      <td>2018-11-23 21:15:47.796</td>\n      <td>85</td>\n      <td>paid</td>\n      <td>None</td>\n      <td>None</td>\n      <td>891</td>\n      <td>Red Bluff, CA</td>\n      <td>\"Mozilla/5.0 (Macintosh; Intel Mac OS X 10_10_...</td>\n      <td>2018</td>\n      <td>11</td>\n      <td>23</td>\n      <td>1709396983831</td>\n    </tr>\n    <tr>\n      <th>8054</th>\n      <td>2018-11-02 21:43:17.796</td>\n      <td>3</td>\n      <td>free</td>\n      <td>None</td>\n      <td>None</td>\n      <td>112</td>\n      <td>Saginaw, MI</td>\n      <td>Mozilla/5.0 (Windows NT 6.1; WOW64; rv:31.0) G...</td>\n      <td>2018</td>\n      <td>11</td>\n      <td>2</td>\n      <td>1709396983832</td>\n    </tr>\n    <tr>\n      <th>8055</th>\n      <td>2018-11-25 07:51:16.796</td>\n      <td>49</td>\n      <td>paid</td>\n      <td>None</td>\n      <td>None</td>\n      <td>916</td>\n      <td>San Francisco-Oakland-Hayward, CA</td>\n      <td>Mozilla/5.0 (Windows NT 5.1; rv:31.0) Gecko/20...</td>\n      <td>2018</td>\n      <td>11</td>\n      <td>25</td>\n      <td>1709396983833</td>\n    </tr>\n  </tbody>\n</table>\n<p>8056 rows × 12 columns</p>\n</div>"
     },
     "execution_count": 118,
     "metadata": {},
     "output_type": "execute_result"
    }
   ],
   "source": [
    "songplays_table.toPandas()"
   ],
   "metadata": {
    "collapsed": false,
    "pycharm": {
     "name": "#%%\n"
    }
   }
  },
  {
   "cell_type": "code",
   "execution_count": 119,
   "outputs": [
    {
     "name": "stderr",
     "output_type": "stream",
     "text": [
      "                                                                                \r"
     ]
    },
    {
     "data": {
      "text/plain": "               start_time userId level             song_id  \\\n0 2018-11-21 22:56:47.796     15  paid  SOZCTXZ12AB0182364   \n\n            artist_id  sessionId                            location  \\\n0  AR5KOSW1187FB35FF4        818  Chicago-Naperville-Elgin, IL-IN-WI   \n\n                                           userAgent  year  month  day  \\\n0  \"Mozilla/5.0 (X11; Linux x86_64) AppleWebKit/5...  2018     11   21   \n\n     songplay_id  \n0  1589137899536  ",
      "text/html": "<div>\n<style scoped>\n    .dataframe tbody tr th:only-of-type {\n        vertical-align: middle;\n    }\n\n    .dataframe tbody tr th {\n        vertical-align: top;\n    }\n\n    .dataframe thead th {\n        text-align: right;\n    }\n</style>\n<table border=\"1\" class=\"dataframe\">\n  <thead>\n    <tr style=\"text-align: right;\">\n      <th></th>\n      <th>start_time</th>\n      <th>userId</th>\n      <th>level</th>\n      <th>song_id</th>\n      <th>artist_id</th>\n      <th>sessionId</th>\n      <th>location</th>\n      <th>userAgent</th>\n      <th>year</th>\n      <th>month</th>\n      <th>day</th>\n      <th>songplay_id</th>\n    </tr>\n  </thead>\n  <tbody>\n    <tr>\n      <th>0</th>\n      <td>2018-11-21 22:56:47.796</td>\n      <td>15</td>\n      <td>paid</td>\n      <td>SOZCTXZ12AB0182364</td>\n      <td>AR5KOSW1187FB35FF4</td>\n      <td>818</td>\n      <td>Chicago-Naperville-Elgin, IL-IN-WI</td>\n      <td>\"Mozilla/5.0 (X11; Linux x86_64) AppleWebKit/5...</td>\n      <td>2018</td>\n      <td>11</td>\n      <td>21</td>\n      <td>1589137899536</td>\n    </tr>\n  </tbody>\n</table>\n</div>"
     },
     "execution_count": 119,
     "metadata": {},
     "output_type": "execute_result"
    }
   ],
   "source": [
    "songplays_table.filter(songplays_table.song_id.isNotNull()).toPandas()"
   ],
   "metadata": {
    "collapsed": false,
    "pycharm": {
     "name": "#%%\n"
    }
   }
  },
  {
   "cell_type": "code",
   "execution_count": null,
   "outputs": [],
   "source": [],
   "metadata": {
    "collapsed": false,
    "pycharm": {
     "name": "#%%\n"
    }
   }
  }
 ],
 "metadata": {
  "kernelspec": {
   "display_name": "Python 3",
   "language": "python",
   "name": "python3"
  },
  "language_info": {
   "codemirror_mode": {
    "name": "ipython",
    "version": 2
   },
   "file_extension": ".py",
   "mimetype": "text/x-python",
   "name": "python",
   "nbconvert_exporter": "python",
   "pygments_lexer": "ipython2",
   "version": "2.7.6"
  }
 },
 "nbformat": 4,
 "nbformat_minor": 0
}